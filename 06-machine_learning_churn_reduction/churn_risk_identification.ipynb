{
 "cells": [
  {
   "cell_type": "markdown",
   "metadata": {},
   "source": [
    "## Solution Code"
   ]
  },
  {
   "cell_type": "code",
   "execution_count": 1,
   "metadata": {},
   "outputs": [],
   "source": [
    "import pandas as pd\n",
    "import numpy as np\n",
    "import matplotlib.pyplot as plt\n",
    "import seaborn as sns\n",
    "from sklearn.preprocessing import OneHotEncoder\n",
    "from sklearn.compose import ColumnTransformer\n",
    "from sklearn.model_selection import train_test_split\n",
    "from sklearn.ensemble import GradientBoostingClassifier\n",
    "from sklearn.linear_model import LogisticRegression\n",
    "from sklearn.ensemble import RandomForestClassifier\n",
    "from sklearn.neural_network import MLPClassifier\n",
    "from sklearn.metrics import roc_auc_score, accuracy_score\n",
    "from sklearn.model_selection import GridSearchCV\n",
    "\n",
    "from sklearn.datasets import make_classification\n",
    "from sklearn.model_selection import train_test_split\n",
    "from sklearn.ensemble import RandomForestClassifier\n",
    "from sklearn.inspection import permutation_importance\n",
    "\n",
    "\n"
   ]
  },
  {
   "cell_type": "code",
   "execution_count": 2,
   "metadata": {},
   "outputs": [],
   "source": [
    "contract_df = pd.read_csv('/datasets/final_provider/contract.csv')\n",
    "personal_df = pd.read_csv('/datasets/final_provider/personal.csv')\n",
    "internet_df = pd.read_csv('/datasets/final_provider/internet.csv')\n",
    "phone_df = pd.read_csv('/datasets/final_provider/phone.csv')"
   ]
  },
  {
   "cell_type": "code",
   "execution_count": 3,
   "metadata": {},
   "outputs": [
    {
     "data": {
      "text/html": [
       "<div>\n",
       "<style scoped>\n",
       "    .dataframe tbody tr th:only-of-type {\n",
       "        vertical-align: middle;\n",
       "    }\n",
       "\n",
       "    .dataframe tbody tr th {\n",
       "        vertical-align: top;\n",
       "    }\n",
       "\n",
       "    .dataframe thead th {\n",
       "        text-align: right;\n",
       "    }\n",
       "</style>\n",
       "<table border=\"1\" class=\"dataframe\">\n",
       "  <thead>\n",
       "    <tr style=\"text-align: right;\">\n",
       "      <th></th>\n",
       "      <th>customerID</th>\n",
       "      <th>BeginDate</th>\n",
       "      <th>EndDate</th>\n",
       "      <th>Type</th>\n",
       "      <th>PaperlessBilling</th>\n",
       "      <th>PaymentMethod</th>\n",
       "      <th>MonthlyCharges</th>\n",
       "      <th>TotalCharges</th>\n",
       "    </tr>\n",
       "  </thead>\n",
       "  <tbody>\n",
       "    <tr>\n",
       "      <th>3792</th>\n",
       "      <td>6712-OAWRH</td>\n",
       "      <td>2017-09-01</td>\n",
       "      <td>2019-11-01 00:00:00</td>\n",
       "      <td>Month-to-month</td>\n",
       "      <td>Yes</td>\n",
       "      <td>Electronic check</td>\n",
       "      <td>91.25</td>\n",
       "      <td>2351.8</td>\n",
       "    </tr>\n",
       "    <tr>\n",
       "      <th>3021</th>\n",
       "      <td>6377-KSLXC</td>\n",
       "      <td>2019-09-01</td>\n",
       "      <td>No</td>\n",
       "      <td>Month-to-month</td>\n",
       "      <td>No</td>\n",
       "      <td>Mailed check</td>\n",
       "      <td>19.95</td>\n",
       "      <td>107.05</td>\n",
       "    </tr>\n",
       "    <tr>\n",
       "      <th>20</th>\n",
       "      <td>8779-QRDMV</td>\n",
       "      <td>2019-11-01</td>\n",
       "      <td>2019-12-01 00:00:00</td>\n",
       "      <td>Month-to-month</td>\n",
       "      <td>Yes</td>\n",
       "      <td>Electronic check</td>\n",
       "      <td>39.65</td>\n",
       "      <td>39.65</td>\n",
       "    </tr>\n",
       "    <tr>\n",
       "      <th>6220</th>\n",
       "      <td>6434-TTGJP</td>\n",
       "      <td>2019-04-01</td>\n",
       "      <td>No</td>\n",
       "      <td>Two year</td>\n",
       "      <td>No</td>\n",
       "      <td>Credit card (automatic)</td>\n",
       "      <td>53.70</td>\n",
       "      <td>521</td>\n",
       "    </tr>\n",
       "    <tr>\n",
       "      <th>6708</th>\n",
       "      <td>2272-QAGFO</td>\n",
       "      <td>2018-08-01</td>\n",
       "      <td>2019-10-01 00:00:00</td>\n",
       "      <td>Month-to-month</td>\n",
       "      <td>Yes</td>\n",
       "      <td>Electronic check</td>\n",
       "      <td>74.30</td>\n",
       "      <td>1096.25</td>\n",
       "    </tr>\n",
       "  </tbody>\n",
       "</table>\n",
       "</div>"
      ],
      "text/plain": [
       "      customerID   BeginDate              EndDate            Type  \\\n",
       "3792  6712-OAWRH  2017-09-01  2019-11-01 00:00:00  Month-to-month   \n",
       "3021  6377-KSLXC  2019-09-01                   No  Month-to-month   \n",
       "20    8779-QRDMV  2019-11-01  2019-12-01 00:00:00  Month-to-month   \n",
       "6220  6434-TTGJP  2019-04-01                   No        Two year   \n",
       "6708  2272-QAGFO  2018-08-01  2019-10-01 00:00:00  Month-to-month   \n",
       "\n",
       "     PaperlessBilling            PaymentMethod  MonthlyCharges TotalCharges  \n",
       "3792              Yes         Electronic check           91.25       2351.8  \n",
       "3021               No             Mailed check           19.95       107.05  \n",
       "20                Yes         Electronic check           39.65        39.65  \n",
       "6220               No  Credit card (automatic)           53.70          521  \n",
       "6708              Yes         Electronic check           74.30      1096.25  "
      ]
     },
     "metadata": {},
     "output_type": "display_data"
    },
    {
     "data": {
      "text/html": [
       "<div>\n",
       "<style scoped>\n",
       "    .dataframe tbody tr th:only-of-type {\n",
       "        vertical-align: middle;\n",
       "    }\n",
       "\n",
       "    .dataframe tbody tr th {\n",
       "        vertical-align: top;\n",
       "    }\n",
       "\n",
       "    .dataframe thead th {\n",
       "        text-align: right;\n",
       "    }\n",
       "</style>\n",
       "<table border=\"1\" class=\"dataframe\">\n",
       "  <thead>\n",
       "    <tr style=\"text-align: right;\">\n",
       "      <th></th>\n",
       "      <th>customerID</th>\n",
       "      <th>gender</th>\n",
       "      <th>SeniorCitizen</th>\n",
       "      <th>Partner</th>\n",
       "      <th>Dependents</th>\n",
       "    </tr>\n",
       "  </thead>\n",
       "  <tbody>\n",
       "    <tr>\n",
       "      <th>5826</th>\n",
       "      <td>9507-EXLTT</td>\n",
       "      <td>Female</td>\n",
       "      <td>0</td>\n",
       "      <td>Yes</td>\n",
       "      <td>No</td>\n",
       "    </tr>\n",
       "    <tr>\n",
       "      <th>12</th>\n",
       "      <td>8091-TTVAX</td>\n",
       "      <td>Male</td>\n",
       "      <td>0</td>\n",
       "      <td>Yes</td>\n",
       "      <td>No</td>\n",
       "    </tr>\n",
       "    <tr>\n",
       "      <th>2684</th>\n",
       "      <td>5440-VHLUL</td>\n",
       "      <td>Male</td>\n",
       "      <td>0</td>\n",
       "      <td>No</td>\n",
       "      <td>No</td>\n",
       "    </tr>\n",
       "    <tr>\n",
       "      <th>2245</th>\n",
       "      <td>6050-FFXES</td>\n",
       "      <td>Female</td>\n",
       "      <td>0</td>\n",
       "      <td>Yes</td>\n",
       "      <td>No</td>\n",
       "    </tr>\n",
       "    <tr>\n",
       "      <th>1832</th>\n",
       "      <td>3132-TVFDZ</td>\n",
       "      <td>Male</td>\n",
       "      <td>1</td>\n",
       "      <td>Yes</td>\n",
       "      <td>No</td>\n",
       "    </tr>\n",
       "  </tbody>\n",
       "</table>\n",
       "</div>"
      ],
      "text/plain": [
       "      customerID  gender  SeniorCitizen Partner Dependents\n",
       "5826  9507-EXLTT  Female              0     Yes         No\n",
       "12    8091-TTVAX    Male              0     Yes         No\n",
       "2684  5440-VHLUL    Male              0      No         No\n",
       "2245  6050-FFXES  Female              0     Yes         No\n",
       "1832  3132-TVFDZ    Male              1     Yes         No"
      ]
     },
     "metadata": {},
     "output_type": "display_data"
    },
    {
     "data": {
      "text/html": [
       "<div>\n",
       "<style scoped>\n",
       "    .dataframe tbody tr th:only-of-type {\n",
       "        vertical-align: middle;\n",
       "    }\n",
       "\n",
       "    .dataframe tbody tr th {\n",
       "        vertical-align: top;\n",
       "    }\n",
       "\n",
       "    .dataframe thead th {\n",
       "        text-align: right;\n",
       "    }\n",
       "</style>\n",
       "<table border=\"1\" class=\"dataframe\">\n",
       "  <thead>\n",
       "    <tr style=\"text-align: right;\">\n",
       "      <th></th>\n",
       "      <th>customerID</th>\n",
       "      <th>InternetService</th>\n",
       "      <th>OnlineSecurity</th>\n",
       "      <th>OnlineBackup</th>\n",
       "      <th>DeviceProtection</th>\n",
       "      <th>TechSupport</th>\n",
       "      <th>StreamingTV</th>\n",
       "      <th>StreamingMovies</th>\n",
       "    </tr>\n",
       "  </thead>\n",
       "  <tbody>\n",
       "    <tr>\n",
       "      <th>1252</th>\n",
       "      <td>9391-EOYLI</td>\n",
       "      <td>Fiber optic</td>\n",
       "      <td>No</td>\n",
       "      <td>No</td>\n",
       "      <td>No</td>\n",
       "      <td>No</td>\n",
       "      <td>No</td>\n",
       "      <td>Yes</td>\n",
       "    </tr>\n",
       "    <tr>\n",
       "      <th>2958</th>\n",
       "      <td>8631-NBHFZ</td>\n",
       "      <td>DSL</td>\n",
       "      <td>Yes</td>\n",
       "      <td>Yes</td>\n",
       "      <td>Yes</td>\n",
       "      <td>Yes</td>\n",
       "      <td>Yes</td>\n",
       "      <td>No</td>\n",
       "    </tr>\n",
       "    <tr>\n",
       "      <th>3786</th>\n",
       "      <td>0868-VJRDR</td>\n",
       "      <td>Fiber optic</td>\n",
       "      <td>Yes</td>\n",
       "      <td>Yes</td>\n",
       "      <td>No</td>\n",
       "      <td>Yes</td>\n",
       "      <td>Yes</td>\n",
       "      <td>Yes</td>\n",
       "    </tr>\n",
       "    <tr>\n",
       "      <th>3084</th>\n",
       "      <td>8720-RQSBJ</td>\n",
       "      <td>DSL</td>\n",
       "      <td>No</td>\n",
       "      <td>No</td>\n",
       "      <td>No</td>\n",
       "      <td>No</td>\n",
       "      <td>No</td>\n",
       "      <td>No</td>\n",
       "    </tr>\n",
       "    <tr>\n",
       "      <th>2968</th>\n",
       "      <td>6712-OAWRH</td>\n",
       "      <td>Fiber optic</td>\n",
       "      <td>No</td>\n",
       "      <td>No</td>\n",
       "      <td>No</td>\n",
       "      <td>No</td>\n",
       "      <td>Yes</td>\n",
       "      <td>Yes</td>\n",
       "    </tr>\n",
       "  </tbody>\n",
       "</table>\n",
       "</div>"
      ],
      "text/plain": [
       "      customerID InternetService OnlineSecurity OnlineBackup DeviceProtection  \\\n",
       "1252  9391-EOYLI     Fiber optic             No           No               No   \n",
       "2958  8631-NBHFZ             DSL            Yes          Yes              Yes   \n",
       "3786  0868-VJRDR     Fiber optic            Yes          Yes               No   \n",
       "3084  8720-RQSBJ             DSL             No           No               No   \n",
       "2968  6712-OAWRH     Fiber optic             No           No               No   \n",
       "\n",
       "     TechSupport StreamingTV StreamingMovies  \n",
       "1252          No          No             Yes  \n",
       "2958         Yes         Yes              No  \n",
       "3786         Yes         Yes             Yes  \n",
       "3084          No          No              No  \n",
       "2968          No         Yes             Yes  "
      ]
     },
     "metadata": {},
     "output_type": "display_data"
    },
    {
     "data": {
      "text/html": [
       "<div>\n",
       "<style scoped>\n",
       "    .dataframe tbody tr th:only-of-type {\n",
       "        vertical-align: middle;\n",
       "    }\n",
       "\n",
       "    .dataframe tbody tr th {\n",
       "        vertical-align: top;\n",
       "    }\n",
       "\n",
       "    .dataframe thead th {\n",
       "        text-align: right;\n",
       "    }\n",
       "</style>\n",
       "<table border=\"1\" class=\"dataframe\">\n",
       "  <thead>\n",
       "    <tr style=\"text-align: right;\">\n",
       "      <th></th>\n",
       "      <th>customerID</th>\n",
       "      <th>MultipleLines</th>\n",
       "    </tr>\n",
       "  </thead>\n",
       "  <tbody>\n",
       "    <tr>\n",
       "      <th>4426</th>\n",
       "      <td>1384-RCUXW</td>\n",
       "      <td>Yes</td>\n",
       "    </tr>\n",
       "    <tr>\n",
       "      <th>4272</th>\n",
       "      <td>0129-KPTWJ</td>\n",
       "      <td>No</td>\n",
       "    </tr>\n",
       "    <tr>\n",
       "      <th>5011</th>\n",
       "      <td>1716-LSAMB</td>\n",
       "      <td>No</td>\n",
       "    </tr>\n",
       "    <tr>\n",
       "      <th>4139</th>\n",
       "      <td>4804-NCPET</td>\n",
       "      <td>No</td>\n",
       "    </tr>\n",
       "    <tr>\n",
       "      <th>5254</th>\n",
       "      <td>8661-BOYNW</td>\n",
       "      <td>Yes</td>\n",
       "    </tr>\n",
       "  </tbody>\n",
       "</table>\n",
       "</div>"
      ],
      "text/plain": [
       "      customerID MultipleLines\n",
       "4426  1384-RCUXW           Yes\n",
       "4272  0129-KPTWJ            No\n",
       "5011  1716-LSAMB            No\n",
       "4139  4804-NCPET            No\n",
       "5254  8661-BOYNW           Yes"
      ]
     },
     "metadata": {},
     "output_type": "display_data"
    }
   ],
   "source": [
    "display(contract_df.sample(5))\n",
    "display(personal_df.sample(5))\n",
    "display(internet_df.sample(5))\n",
    "display(phone_df.sample(5))\n"
   ]
  },
  {
   "cell_type": "code",
   "execution_count": 4,
   "metadata": {},
   "outputs": [
    {
     "name": "stdout",
     "output_type": "stream",
     "text": [
      "<class 'pandas.core.frame.DataFrame'>\n",
      "RangeIndex: 7043 entries, 0 to 7042\n",
      "Data columns (total 8 columns):\n",
      " #   Column            Non-Null Count  Dtype  \n",
      "---  ------            --------------  -----  \n",
      " 0   customerID        7043 non-null   object \n",
      " 1   BeginDate         7043 non-null   object \n",
      " 2   EndDate           7043 non-null   object \n",
      " 3   Type              7043 non-null   object \n",
      " 4   PaperlessBilling  7043 non-null   object \n",
      " 5   PaymentMethod     7043 non-null   object \n",
      " 6   MonthlyCharges    7043 non-null   float64\n",
      " 7   TotalCharges      7043 non-null   object \n",
      "dtypes: float64(1), object(7)\n",
      "memory usage: 440.3+ KB\n"
     ]
    },
    {
     "data": {
      "text/plain": [
       "None"
      ]
     },
     "metadata": {},
     "output_type": "display_data"
    },
    {
     "name": "stdout",
     "output_type": "stream",
     "text": [
      "<class 'pandas.core.frame.DataFrame'>\n",
      "RangeIndex: 7043 entries, 0 to 7042\n",
      "Data columns (total 5 columns):\n",
      " #   Column         Non-Null Count  Dtype \n",
      "---  ------         --------------  ----- \n",
      " 0   customerID     7043 non-null   object\n",
      " 1   gender         7043 non-null   object\n",
      " 2   SeniorCitizen  7043 non-null   int64 \n",
      " 3   Partner        7043 non-null   object\n",
      " 4   Dependents     7043 non-null   object\n",
      "dtypes: int64(1), object(4)\n",
      "memory usage: 275.2+ KB\n"
     ]
    },
    {
     "data": {
      "text/plain": [
       "None"
      ]
     },
     "metadata": {},
     "output_type": "display_data"
    },
    {
     "name": "stdout",
     "output_type": "stream",
     "text": [
      "<class 'pandas.core.frame.DataFrame'>\n",
      "RangeIndex: 5517 entries, 0 to 5516\n",
      "Data columns (total 8 columns):\n",
      " #   Column            Non-Null Count  Dtype \n",
      "---  ------            --------------  ----- \n",
      " 0   customerID        5517 non-null   object\n",
      " 1   InternetService   5517 non-null   object\n",
      " 2   OnlineSecurity    5517 non-null   object\n",
      " 3   OnlineBackup      5517 non-null   object\n",
      " 4   DeviceProtection  5517 non-null   object\n",
      " 5   TechSupport       5517 non-null   object\n",
      " 6   StreamingTV       5517 non-null   object\n",
      " 7   StreamingMovies   5517 non-null   object\n",
      "dtypes: object(8)\n",
      "memory usage: 344.9+ KB\n"
     ]
    },
    {
     "data": {
      "text/plain": [
       "None"
      ]
     },
     "metadata": {},
     "output_type": "display_data"
    },
    {
     "name": "stdout",
     "output_type": "stream",
     "text": [
      "<class 'pandas.core.frame.DataFrame'>\n",
      "RangeIndex: 6361 entries, 0 to 6360\n",
      "Data columns (total 2 columns):\n",
      " #   Column         Non-Null Count  Dtype \n",
      "---  ------         --------------  ----- \n",
      " 0   customerID     6361 non-null   object\n",
      " 1   MultipleLines  6361 non-null   object\n",
      "dtypes: object(2)\n",
      "memory usage: 99.5+ KB\n"
     ]
    },
    {
     "data": {
      "text/plain": [
       "None"
      ]
     },
     "metadata": {},
     "output_type": "display_data"
    }
   ],
   "source": [
    "display(contract_df.info())\n",
    "display(personal_df.info())\n",
    "display(internet_df.info())\n",
    "display(phone_df.info())"
   ]
  },
  {
   "cell_type": "code",
   "execution_count": 5,
   "metadata": {},
   "outputs": [
    {
     "name": "stdout",
     "output_type": "stream",
     "text": [
      "--- Contract Data ---\n",
      "0\n",
      "\n",
      "--- Personal Data ---\n",
      "0\n",
      "\n",
      "--- Internet Data ---\n",
      "0\n",
      "\n",
      "--- Phone Data ---\n",
      "0\n"
     ]
    }
   ],
   "source": [
    "print(\"--- Contract Data ---\")\n",
    "print(contract_df.duplicated(subset=['customerID']).sum())\n",
    "\n",
    "print(\"\\n--- Personal Data ---\")\n",
    "print(personal_df.duplicated(subset=['customerID']).sum())\n",
    "\n",
    "print(\"\\n--- Internet Data ---\")\n",
    "print(internet_df.duplicated(subset=['customerID']).sum())\n",
    "\n",
    "print(\"\\n--- Phone Data ---\")\n",
    "print(phone_df.duplicated(subset=['customerID']).sum())"
   ]
  },
  {
   "cell_type": "markdown",
   "metadata": {},
   "source": [
    "There are no obvious duplicates in the data, but it seems that across the datasets, there are discrepencies in user data. Some user data is not included across all of the datasets, which is ok but I'll have to keep this in mind. It will surely need to be addressed so that entries based on costomerID do not have their missing data impact anything. The data types all seem appropriate except for datetime perhaps being needed for date related entries, and perhaps totalcharges needing to be a numeric dataype instead. EndDate needs special treatment, as enddates labled as \"No\" need to be preserved well. These changes will be done once all of the data has been merged. "
   ]
  },
  {
   "cell_type": "code",
   "execution_count": 6,
   "metadata": {},
   "outputs": [
    {
     "data": {
      "image/png": "[encoded data removed]",
      "text/plain": [
       "<Figure size 864x432 with 2 Axes>"
      ]
     },
     "metadata": {
      "needs_background": "light"
     },
     "output_type": "display_data"
    }
   ],
   "source": [
    "contract_df = pd.read_csv('/datasets/final_provider/contract.csv')\n",
    "\n",
    "\n",
    "fig, axes = plt.subplots(1, 2, figsize=(12, 6))\n",
    "\n",
    "\n",
    "sns.histplot(contract_df['MonthlyCharges'], bins=30, kde=True, color='skyblue', ax=axes[0])\n",
    "axes[0].set_xlabel('Monthly Charges')\n",
    "axes[0].set_title('Distribution of Monthly Charges')\n",
    "\n",
    "\n",
    "sns.boxplot(x='MonthlyCharges', data=contract_df, color='salmon', ax=axes[1])\n",
    "axes[1].set_xlabel('Monthly Charges')\n",
    "axes[1].set_title('Box Plot of Monthly Charges')\n",
    "\n",
    "plt.tight_layout()\n",
    "plt.show()"
   ]
  },
  {
   "cell_type": "markdown",
   "metadata": {},
   "source": [
    "I quckly created this graphic to look at a variable. Later on, additional analysis can be done based on what is needed. "
   ]
  },
  {
   "cell_type": "code",
   "execution_count": 7,
   "metadata": {
    "scrolled": false
   },
   "outputs": [
    {
     "name": "stdout",
     "output_type": "stream",
     "text": [
      "Checking dataframe: contract_df\n",
      "No outliers or abnormalities found in column 'customerID'.\n",
      "\n",
      "No outliers or abnormalities found in column 'BeginDate'.\n",
      "\n",
      "No outliers or abnormalities found in column 'EndDate'.\n",
      "\n",
      "No outliers or abnormalities found in column 'Type'.\n",
      "\n",
      "No outliers or abnormalities found in column 'PaperlessBilling'.\n",
      "\n",
      "No outliers or abnormalities found in column 'PaymentMethod'.\n",
      "\n",
      "No outliers or abnormalities found in column 'MonthlyCharges'.\n",
      "\n",
      "No outliers or abnormalities found in column 'TotalCharges'.\n",
      "\n",
      "Checking dataframe: personal_df\n",
      "No outliers or abnormalities found in column 'customerID'.\n",
      "\n",
      "No outliers or abnormalities found in column 'gender'.\n",
      "\n",
      "Column 'SeniorCitizen': Found 1142 outliers or abnormalities.\n",
      "      customerID  gender  SeniorCitizen Partner Dependents\n",
      "20           NaN     NaN              1      No         No\n",
      "30           NaN     NaN              1     Yes         No\n",
      "31           NaN     NaN              1     Yes         No\n",
      "34           NaN     NaN              1      No         No\n",
      "50           NaN     NaN              1      No         No\n",
      "...          ...     ...            ...     ...        ...\n",
      "7023         NaN     NaN              1     Yes         No\n",
      "7029         NaN     NaN              1      No         No\n",
      "7031         NaN     NaN              1     Yes         No\n",
      "7032         NaN     NaN              1      No         No\n",
      "7041         NaN     NaN              1     Yes         No\n",
      "\n",
      "[1142 rows x 5 columns]\n",
      "\n",
      "\n",
      "No outliers or abnormalities found in column 'Partner'.\n",
      "\n",
      "No outliers or abnormalities found in column 'Dependents'.\n",
      "\n",
      "Checking dataframe: internet_df\n",
      "No outliers or abnormalities found in column 'customerID'.\n",
      "\n",
      "No outliers or abnormalities found in column 'InternetService'.\n",
      "\n",
      "No outliers or abnormalities found in column 'OnlineSecurity'.\n",
      "\n",
      "No outliers or abnormalities found in column 'OnlineBackup'.\n",
      "\n",
      "No outliers or abnormalities found in column 'DeviceProtection'.\n",
      "\n",
      "No outliers or abnormalities found in column 'TechSupport'.\n",
      "\n",
      "No outliers or abnormalities found in column 'StreamingTV'.\n",
      "\n",
      "No outliers or abnormalities found in column 'StreamingMovies'.\n",
      "\n",
      "Checking dataframe: phone_df\n",
      "No outliers or abnormalities found in column 'customerID'.\n",
      "\n",
      "No outliers or abnormalities found in column 'MultipleLines'.\n",
      "\n"
     ]
    }
   ],
   "source": [
    "def detect_outliers(df, column):\n",
    "    \"\"\"\n",
    "    Detect outliers in a given column of a dataframe.\n",
    "    Returns a list of indices corresponding to the outliers.\n",
    "    \"\"\"\n",
    "   \n",
    "    df[column] = pd.to_numeric(df[column], errors='coerce')\n",
    "    \n",
    "   \n",
    "    Q1 = df[column].quantile(0.25)\n",
    "    Q3 = df[column].quantile(0.75)\n",
    "    IQR = Q3 - Q1\n",
    "    \n",
    "    \n",
    "    lower_bound = Q1 - 1.5 * IQR\n",
    "    upper_bound = Q3 + 1.5 * IQR\n",
    "    \n",
    "    \n",
    "    outliers = df[(df[column] < lower_bound) | (df[column] > upper_bound)].index\n",
    "    return outliers\n",
    "\n",
    "def check_for_outliers(df):\n",
    "    \"\"\"\n",
    "    Check for outliers or abnormalities in all columns of a dataframe.\n",
    "    Prints the findings for each column.\n",
    "    \"\"\"\n",
    "    print(f\"Checking dataframe: {df.name}\")\n",
    "    for column in df.columns:\n",
    "        outliers = detect_outliers(df, column)\n",
    "        if len(outliers) > 0:\n",
    "            print(f\"Column '{column}': Found {len(outliers)} outliers or abnormalities.\")\n",
    "            print(df.loc[outliers])\n",
    "            print(\"\\n\")\n",
    "        else:\n",
    "            print(f\"No outliers or abnormalities found in column '{column}'.\\n\")\n",
    "\n",
    "\n",
    "contract_df.name = \"contract_df\"\n",
    "personal_df.name = \"personal_df\"\n",
    "internet_df.name = \"internet_df\"\n",
    "phone_df.name = \"phone_df\"\n",
    "\n",
    "\n",
    "check_for_outliers(contract_df)\n",
    "check_for_outliers(personal_df)\n",
    "check_for_outliers(internet_df)\n",
    "check_for_outliers(phone_df)"
   ]
  },
  {
   "cell_type": "markdown",
   "metadata": {},
   "source": [
    "Through this general method, no outliers or abnormalities were found. "
   ]
  },
  {
   "cell_type": "markdown",
   "metadata": {},
   "source": [
    "Moving on to merging the datasets. In order to train any models in order to properly determine churn risk of a customer, the datasets must all be merged. I will do this, and then I will address any datatype issues. Due to memory constraints, an unusual method of concating had to be used in the way of chunking. This created issues in terms of not properly merging on the customerID value, so this had to also be addressed after the merging. "
   ]
  },
  {
   "cell_type": "code",
   "execution_count": 8,
   "metadata": {},
   "outputs": [],
   "source": [
    "import sqlite3\n",
    "import pandas as pd\n",
    "\n",
    "# Create a connection to a SQLite database\n",
    "conn = sqlite3.connect('my_database.db')\n",
    "\n",
    "# Load the dataframes into the database\n",
    "contract_df = pd.read_csv('/datasets/final_provider/contract.csv')\n",
    "personal_df = pd.read_csv('/datasets/final_provider/personal.csv')\n",
    "internet_df = pd.read_csv('/datasets/final_provider/internet.csv')\n",
    "phone_df = pd.read_csv('/datasets/final_provider/phone.csv')\n",
    "\n",
    "contract_df.to_sql('contract', conn, if_exists='replace', index=False)\n",
    "personal_df.to_sql('personal', conn, if_exists='replace', index=False)\n",
    "internet_df.to_sql('internet', conn, if_exists='replace', index=False)\n",
    "phone_df.to_sql('phone', conn, if_exists='replace', index=False)\n",
    "\n",
    "# Perform the merge operation using SQL\n",
    "query = \"\"\"\n",
    "SELECT contract.*, personal.*, internet.*, phone.*\n",
    "FROM contract\n",
    "LEFT JOIN personal ON contract.customerID = personal.customerID\n",
    "LEFT JOIN internet ON contract.customerID = internet.customerID\n",
    "LEFT JOIN phone ON contract.customerID = phone.customerID\n",
    "\"\"\"\n",
    "\n",
    "merged_df = pd.read_sql_query(query, conn)\n",
    "\n",
    "# Close the connection\n",
    "conn.close()\n",
    "\n",
    "merged_df = merged_df.loc[:,~merged_df.columns.duplicated()]\n"
   ]
  },
  {
   "cell_type": "code",
   "execution_count": 9,
   "metadata": {
    "scrolled": false
   },
   "outputs": [
    {
     "name": "stdout",
     "output_type": "stream",
     "text": [
      "<class 'pandas.core.frame.DataFrame'>\n",
      "RangeIndex: 7043 entries, 0 to 7042\n",
      "Data columns (total 20 columns):\n",
      " #   Column            Non-Null Count  Dtype  \n",
      "---  ------            --------------  -----  \n",
      " 0   customerID        7043 non-null   object \n",
      " 1   BeginDate         7043 non-null   object \n",
      " 2   EndDate           7043 non-null   object \n",
      " 3   Type              7043 non-null   object \n",
      " 4   PaperlessBilling  7043 non-null   object \n",
      " 5   PaymentMethod     7043 non-null   object \n",
      " 6   MonthlyCharges    7043 non-null   float64\n",
      " 7   TotalCharges      7043 non-null   object \n",
      " 8   gender            7043 non-null   object \n",
      " 9   SeniorCitizen     7043 non-null   int64  \n",
      " 10  Partner           7043 non-null   object \n",
      " 11  Dependents        7043 non-null   object \n",
      " 12  InternetService   5517 non-null   object \n",
      " 13  OnlineSecurity    5517 non-null   object \n",
      " 14  OnlineBackup      5517 non-null   object \n",
      " 15  DeviceProtection  5517 non-null   object \n",
      " 16  TechSupport       5517 non-null   object \n",
      " 17  StreamingTV       5517 non-null   object \n",
      " 18  StreamingMovies   5517 non-null   object \n",
      " 19  MultipleLines     6361 non-null   object \n",
      "dtypes: float64(1), int64(1), object(18)\n",
      "memory usage: 1.1+ MB\n"
     ]
    }
   ],
   "source": [
    "merged_df.info()"
   ]
  },
  {
   "cell_type": "code",
   "execution_count": 10,
   "metadata": {},
   "outputs": [],
   "source": [
    "merged_df_combined = merged_df"
   ]
  },
  {
   "cell_type": "code",
   "execution_count": 11,
   "metadata": {
    "scrolled": true
   },
   "outputs": [
    {
     "name": "stdout",
     "output_type": "stream",
     "text": [
      "Number of missing values in 'EndDate' column: 0\n"
     ]
    }
   ],
   "source": [
    "merged_df_combined['EndDate'] = merged_df_combined['EndDate'].fillna('No')\n",
    "\n",
    "missing_end_dates = merged_df_combined['EndDate'].isnull().sum()\n",
    "print(\"Number of missing values in 'EndDate' column:\", missing_end_dates)"
   ]
  },
  {
   "cell_type": "markdown",
   "metadata": {},
   "source": [
    "The four datasets have now been merged on customerID. "
   ]
  },
  {
   "cell_type": "code",
   "execution_count": 12,
   "metadata": {},
   "outputs": [],
   "source": [
    "merged_df_combined['TotalCharges'] = pd.to_numeric(merged_df_combined['TotalCharges'], errors='coerce')\n",
    "merged_df_combined['BeginDate'] = pd.to_datetime(merged_df_combined['BeginDate'])"
   ]
  },
  {
   "cell_type": "code",
   "execution_count": 13,
   "metadata": {
    "scrolled": true
   },
   "outputs": [
    {
     "name": "stdout",
     "output_type": "stream",
     "text": [
      "0    5174\n",
      "1    1869\n",
      "Name: Churn, dtype: int64\n",
      "\n",
      "\n",
      "<class 'pandas.core.frame.DataFrame'>\n",
      "RangeIndex: 7043 entries, 0 to 7042\n",
      "Data columns (total 20 columns):\n",
      " #   Column            Non-Null Count  Dtype         \n",
      "---  ------            --------------  -----         \n",
      " 0   customerID        7043 non-null   object        \n",
      " 1   BeginDate         7043 non-null   datetime64[ns]\n",
      " 2   Type              7043 non-null   object        \n",
      " 3   PaperlessBilling  7043 non-null   object        \n",
      " 4   PaymentMethod     7043 non-null   object        \n",
      " 5   MonthlyCharges    7043 non-null   float64       \n",
      " 6   TotalCharges      7032 non-null   float64       \n",
      " 7   gender            7043 non-null   object        \n",
      " 8   SeniorCitizen     7043 non-null   int64         \n",
      " 9   Partner           7043 non-null   object        \n",
      " 10  Dependents        7043 non-null   object        \n",
      " 11  InternetService   5517 non-null   object        \n",
      " 12  OnlineSecurity    5517 non-null   object        \n",
      " 13  OnlineBackup      5517 non-null   object        \n",
      " 14  DeviceProtection  5517 non-null   object        \n",
      " 15  TechSupport       5517 non-null   object        \n",
      " 16  StreamingTV       5517 non-null   object        \n",
      " 17  StreamingMovies   5517 non-null   object        \n",
      " 18  MultipleLines     6361 non-null   object        \n",
      " 19  Churn             7043 non-null   int64         \n",
      "dtypes: datetime64[ns](1), float64(2), int64(2), object(15)\n",
      "memory usage: 1.1+ MB\n"
     ]
    },
    {
     "data": {
      "text/plain": [
       "None"
      ]
     },
     "metadata": {},
     "output_type": "display_data"
    }
   ],
   "source": [
    "merged_df_combined['Churn'] = merged_df_combined['EndDate'].apply(lambda x: 0 if pd.isnull(x) or x == 'No' else 1)\n",
    "\n",
    "merged_df_combined = merged_df_combined.drop('EndDate', axis=1)\n",
    "print(merged_df_combined['Churn'].value_counts())\n",
    "print()\n",
    "print()\n",
    "display(merged_df_combined.info())\n"
   ]
  },
  {
   "cell_type": "markdown",
   "metadata": {},
   "source": [
    "I created a 'Churn' feature that can be used as my target. There is a class imbalance that will be addressed. This will be done after splitting data into training and testing sets. The EndDate column was deleted. "
   ]
  },
  {
   "cell_type": "code",
   "execution_count": 14,
   "metadata": {},
   "outputs": [],
   "source": [
    "\n",
    "categorical_columns = ['Type', 'PaperlessBilling', 'PaymentMethod', 'gender', 'Partner', 'Dependents', 'InternetService', 'OnlineSecurity', 'OnlineBackup', 'DeviceProtection', 'TechSupport', 'StreamingTV', 'StreamingMovies', 'MultipleLines']\n",
    "\n",
    "\n",
    "preprocessor = ColumnTransformer(\n",
    "    transformers=[\n",
    "        ('onehot', OneHotEncoder(handle_unknown='ignore'), categorical_columns)\n",
    "    ],\n",
    "    remainder='passthrough'  \n",
    ")\n",
    "\n",
    "\n",
    "X_encoded = preprocessor.fit_transform(merged_df_combined)\n",
    "\n",
    "\n",
    "onehot_columns = list(preprocessor.named_transformers_['onehot'].get_feature_names(categorical_columns))\n",
    "remaining_columns = [col for col in merged_df_combined.columns if col not in categorical_columns]\n",
    "feature_names = onehot_columns + remaining_columns\n",
    "\n",
    "\n",
    "encoded_df = pd.DataFrame(X_encoded, columns=feature_names)\n"
   ]
  },
  {
   "cell_type": "code",
   "execution_count": 15,
   "metadata": {
    "scrolled": true
   },
   "outputs": [
    {
     "name": "stdout",
     "output_type": "stream",
     "text": [
      "<class 'pandas.core.frame.DataFrame'>\n",
      "RangeIndex: 7043 entries, 0 to 7042\n",
      "Data columns (total 45 columns):\n",
      " #   Column                                   Non-Null Count  Dtype         \n",
      "---  ------                                   --------------  -----         \n",
      " 0   Type_Month-to-month                      7043 non-null   object        \n",
      " 1   Type_One year                            7043 non-null   object        \n",
      " 2   Type_Two year                            7043 non-null   object        \n",
      " 3   PaperlessBilling_No                      7043 non-null   object        \n",
      " 4   PaperlessBilling_Yes                     7043 non-null   object        \n",
      " 5   PaymentMethod_Bank transfer (automatic)  7043 non-null   object        \n",
      " 6   PaymentMethod_Credit card (automatic)    7043 non-null   object        \n",
      " 7   PaymentMethod_Electronic check           7043 non-null   object        \n",
      " 8   PaymentMethod_Mailed check               7043 non-null   object        \n",
      " 9   gender_Female                            7043 non-null   object        \n",
      " 10  gender_Male                              7043 non-null   object        \n",
      " 11  Partner_No                               7043 non-null   object        \n",
      " 12  Partner_Yes                              7043 non-null   object        \n",
      " 13  Dependents_No                            7043 non-null   object        \n",
      " 14  Dependents_Yes                           7043 non-null   object        \n",
      " 15  InternetService_DSL                      7043 non-null   object        \n",
      " 16  InternetService_Fiber optic              7043 non-null   object        \n",
      " 17  InternetService_None                     7043 non-null   object        \n",
      " 18  OnlineSecurity_No                        7043 non-null   object        \n",
      " 19  OnlineSecurity_Yes                       7043 non-null   object        \n",
      " 20  OnlineSecurity_None                      7043 non-null   object        \n",
      " 21  OnlineBackup_No                          7043 non-null   object        \n",
      " 22  OnlineBackup_Yes                         7043 non-null   object        \n",
      " 23  OnlineBackup_None                        7043 non-null   object        \n",
      " 24  DeviceProtection_No                      7043 non-null   object        \n",
      " 25  DeviceProtection_Yes                     7043 non-null   object        \n",
      " 26  DeviceProtection_None                    7043 non-null   object        \n",
      " 27  TechSupport_No                           7043 non-null   object        \n",
      " 28  TechSupport_Yes                          7043 non-null   object        \n",
      " 29  TechSupport_None                         7043 non-null   object        \n",
      " 30  StreamingTV_No                           7043 non-null   object        \n",
      " 31  StreamingTV_Yes                          7043 non-null   object        \n",
      " 32  StreamingTV_None                         7043 non-null   object        \n",
      " 33  StreamingMovies_No                       7043 non-null   object        \n",
      " 34  StreamingMovies_Yes                      7043 non-null   object        \n",
      " 35  StreamingMovies_None                     7043 non-null   object        \n",
      " 36  MultipleLines_No                         7043 non-null   object        \n",
      " 37  MultipleLines_Yes                        7043 non-null   object        \n",
      " 38  MultipleLines_None                       7043 non-null   object        \n",
      " 39  customerID                               7043 non-null   object        \n",
      " 40  BeginDate                                7043 non-null   datetime64[ns]\n",
      " 41  MonthlyCharges                           7043 non-null   object        \n",
      " 42  TotalCharges                             7032 non-null   object        \n",
      " 43  SeniorCitizen                            7043 non-null   object        \n",
      " 44  Churn                                    7043 non-null   object        \n",
      "dtypes: datetime64[ns](1), object(44)\n",
      "memory usage: 2.4+ MB\n",
      "None\n"
     ]
    }
   ],
   "source": [
    "print(encoded_df.info())"
   ]
  },
  {
   "cell_type": "code",
   "execution_count": 16,
   "metadata": {},
   "outputs": [],
   "source": [
    "encoded_df['MonthlyCharges'] = encoded_df['MonthlyCharges'].fillna(encoded_df['MonthlyCharges'].median())\n",
    "\n",
    "encoded_df['TotalCharges'] = encoded_df['TotalCharges'].fillna(encoded_df['TotalCharges'].median())\n",
    "\n",
    "encoded_df['SeniorCitizen'] = encoded_df['SeniorCitizen'].fillna(encoded_df['SeniorCitizen'].mode().iloc[0])\n",
    "\n",
    "mode_date = encoded_df['BeginDate'].mode().iloc[0]\n",
    "\n",
    "\n",
    "encoded_df['BeginDate'].fillna(mode_date, inplace=True)\n"
   ]
  },
  {
   "cell_type": "code",
   "execution_count": 17,
   "metadata": {},
   "outputs": [],
   "source": [
    "encoded_df.drop(columns=['customerID'], inplace=True)\n",
    "\n",
    "columns_to_convert = encoded_df.columns.difference(['BeginDate'])\n",
    "final_df = encoded_df[columns_to_convert].astype(int)\n",
    "\n",
    "\n",
    "final_df['BeginDate'] = encoded_df['BeginDate']"
   ]
  },
  {
   "cell_type": "code",
   "execution_count": 18,
   "metadata": {},
   "outputs": [
    {
     "name": "stdout",
     "output_type": "stream",
     "text": [
      "<class 'pandas.core.frame.DataFrame'>\n",
      "RangeIndex: 7043 entries, 0 to 7042\n",
      "Data columns (total 44 columns):\n",
      " #   Column                                   Non-Null Count  Dtype         \n",
      "---  ------                                   --------------  -----         \n",
      " 0   Churn                                    7043 non-null   int64         \n",
      " 1   Dependents_No                            7043 non-null   int64         \n",
      " 2   Dependents_Yes                           7043 non-null   int64         \n",
      " 3   DeviceProtection_No                      7043 non-null   int64         \n",
      " 4   DeviceProtection_None                    7043 non-null   int64         \n",
      " 5   DeviceProtection_Yes                     7043 non-null   int64         \n",
      " 6   InternetService_DSL                      7043 non-null   int64         \n",
      " 7   InternetService_Fiber optic              7043 non-null   int64         \n",
      " 8   InternetService_None                     7043 non-null   int64         \n",
      " 9   MonthlyCharges                           7043 non-null   int64         \n",
      " 10  MultipleLines_No                         7043 non-null   int64         \n",
      " 11  MultipleLines_None                       7043 non-null   int64         \n",
      " 12  MultipleLines_Yes                        7043 non-null   int64         \n",
      " 13  OnlineBackup_No                          7043 non-null   int64         \n",
      " 14  OnlineBackup_None                        7043 non-null   int64         \n",
      " 15  OnlineBackup_Yes                         7043 non-null   int64         \n",
      " 16  OnlineSecurity_No                        7043 non-null   int64         \n",
      " 17  OnlineSecurity_None                      7043 non-null   int64         \n",
      " 18  OnlineSecurity_Yes                       7043 non-null   int64         \n",
      " 19  PaperlessBilling_No                      7043 non-null   int64         \n",
      " 20  PaperlessBilling_Yes                     7043 non-null   int64         \n",
      " 21  Partner_No                               7043 non-null   int64         \n",
      " 22  Partner_Yes                              7043 non-null   int64         \n",
      " 23  PaymentMethod_Bank transfer (automatic)  7043 non-null   int64         \n",
      " 24  PaymentMethod_Credit card (automatic)    7043 non-null   int64         \n",
      " 25  PaymentMethod_Electronic check           7043 non-null   int64         \n",
      " 26  PaymentMethod_Mailed check               7043 non-null   int64         \n",
      " 27  SeniorCitizen                            7043 non-null   int64         \n",
      " 28  StreamingMovies_No                       7043 non-null   int64         \n",
      " 29  StreamingMovies_None                     7043 non-null   int64         \n",
      " 30  StreamingMovies_Yes                      7043 non-null   int64         \n",
      " 31  StreamingTV_No                           7043 non-null   int64         \n",
      " 32  StreamingTV_None                         7043 non-null   int64         \n",
      " 33  StreamingTV_Yes                          7043 non-null   int64         \n",
      " 34  TechSupport_No                           7043 non-null   int64         \n",
      " 35  TechSupport_None                         7043 non-null   int64         \n",
      " 36  TechSupport_Yes                          7043 non-null   int64         \n",
      " 37  TotalCharges                             7043 non-null   int64         \n",
      " 38  Type_Month-to-month                      7043 non-null   int64         \n",
      " 39  Type_One year                            7043 non-null   int64         \n",
      " 40  Type_Two year                            7043 non-null   int64         \n",
      " 41  gender_Female                            7043 non-null   int64         \n",
      " 42  gender_Male                              7043 non-null   int64         \n",
      " 43  BeginDate                                7043 non-null   datetime64[ns]\n",
      "dtypes: datetime64[ns](1), int64(43)\n",
      "memory usage: 2.4 MB\n"
     ]
    }
   ],
   "source": [
    "final_df.info()"
   ]
  },
  {
   "cell_type": "code",
   "execution_count": 19,
   "metadata": {},
   "outputs": [],
   "source": [
    "columns_to_drop = []\n",
    "\n",
    "for col in final_df.columns:\n",
    "    if col.endswith(\"_No\") or col == \"gender_Female\" or col == \"InternetService_DSL\":\n",
    "        columns_to_drop.append(col)\n",
    "\n",
    "\n",
    "final_df = final_df.drop(columns_to_drop, axis=1)"
   ]
  },
  {
   "cell_type": "code",
   "execution_count": 20,
   "metadata": {},
   "outputs": [],
   "source": [
    "\n",
    "final_df['BeginDate'] = pd.to_datetime(final_df['BeginDate'])\n",
    "final_df['BeginYear'] = final_df['BeginDate'].dt.year\n",
    "final_df['BeginMonth'] = final_df['BeginDate'].dt.month\n",
    "final_df['BeginDay'] = final_df['BeginDate'].dt.day\n"
   ]
  },
  {
   "cell_type": "code",
   "execution_count": 21,
   "metadata": {},
   "outputs": [
    {
     "name": "stdout",
     "output_type": "stream",
     "text": [
      "<class 'pandas.core.frame.DataFrame'>\n",
      "RangeIndex: 7043 entries, 0 to 7042\n",
      "Data columns (total 35 columns):\n",
      " #   Column                                   Non-Null Count  Dtype         \n",
      "---  ------                                   --------------  -----         \n",
      " 0   Churn                                    7043 non-null   int64         \n",
      " 1   Dependents_Yes                           7043 non-null   int64         \n",
      " 2   DeviceProtection_None                    7043 non-null   int64         \n",
      " 3   DeviceProtection_Yes                     7043 non-null   int64         \n",
      " 4   InternetService_Fiber optic              7043 non-null   int64         \n",
      " 5   InternetService_None                     7043 non-null   int64         \n",
      " 6   MonthlyCharges                           7043 non-null   int64         \n",
      " 7   MultipleLines_None                       7043 non-null   int64         \n",
      " 8   MultipleLines_Yes                        7043 non-null   int64         \n",
      " 9   OnlineBackup_None                        7043 non-null   int64         \n",
      " 10  OnlineBackup_Yes                         7043 non-null   int64         \n",
      " 11  OnlineSecurity_None                      7043 non-null   int64         \n",
      " 12  OnlineSecurity_Yes                       7043 non-null   int64         \n",
      " 13  PaperlessBilling_Yes                     7043 non-null   int64         \n",
      " 14  Partner_Yes                              7043 non-null   int64         \n",
      " 15  PaymentMethod_Bank transfer (automatic)  7043 non-null   int64         \n",
      " 16  PaymentMethod_Credit card (automatic)    7043 non-null   int64         \n",
      " 17  PaymentMethod_Electronic check           7043 non-null   int64         \n",
      " 18  PaymentMethod_Mailed check               7043 non-null   int64         \n",
      " 19  SeniorCitizen                            7043 non-null   int64         \n",
      " 20  StreamingMovies_None                     7043 non-null   int64         \n",
      " 21  StreamingMovies_Yes                      7043 non-null   int64         \n",
      " 22  StreamingTV_None                         7043 non-null   int64         \n",
      " 23  StreamingTV_Yes                          7043 non-null   int64         \n",
      " 24  TechSupport_None                         7043 non-null   int64         \n",
      " 25  TechSupport_Yes                          7043 non-null   int64         \n",
      " 26  TotalCharges                             7043 non-null   int64         \n",
      " 27  Type_Month-to-month                      7043 non-null   int64         \n",
      " 28  Type_One year                            7043 non-null   int64         \n",
      " 29  Type_Two year                            7043 non-null   int64         \n",
      " 30  gender_Male                              7043 non-null   int64         \n",
      " 31  BeginDate                                7043 non-null   datetime64[ns]\n",
      " 32  BeginYear                                7043 non-null   int64         \n",
      " 33  BeginMonth                               7043 non-null   int64         \n",
      " 34  BeginDay                                 7043 non-null   int64         \n",
      "dtypes: datetime64[ns](1), int64(34)\n",
      "memory usage: 1.9 MB\n",
      "None\n"
     ]
    }
   ],
   "source": [
    "print(final_df.info())"
   ]
  },
  {
   "cell_type": "code",
   "execution_count": 22,
   "metadata": {},
   "outputs": [],
   "source": [
    "\n",
    "final_df = final_df.drop('BeginDate', axis=1)"
   ]
  },
  {
   "cell_type": "code",
   "execution_count": 23,
   "metadata": {
    "scrolled": true
   },
   "outputs": [
    {
     "name": "stdout",
     "output_type": "stream",
     "text": [
      "<class 'pandas.core.frame.DataFrame'>\n",
      "RangeIndex: 7043 entries, 0 to 7042\n",
      "Data columns (total 34 columns):\n",
      " #   Column                                   Non-Null Count  Dtype\n",
      "---  ------                                   --------------  -----\n",
      " 0   Churn                                    7043 non-null   int64\n",
      " 1   Dependents_Yes                           7043 non-null   int64\n",
      " 2   DeviceProtection_None                    7043 non-null   int64\n",
      " 3   DeviceProtection_Yes                     7043 non-null   int64\n",
      " 4   InternetService_Fiber optic              7043 non-null   int64\n",
      " 5   InternetService_None                     7043 non-null   int64\n",
      " 6   MonthlyCharges                           7043 non-null   int64\n",
      " 7   MultipleLines_None                       7043 non-null   int64\n",
      " 8   MultipleLines_Yes                        7043 non-null   int64\n",
      " 9   OnlineBackup_None                        7043 non-null   int64\n",
      " 10  OnlineBackup_Yes                         7043 non-null   int64\n",
      " 11  OnlineSecurity_None                      7043 non-null   int64\n",
      " 12  OnlineSecurity_Yes                       7043 non-null   int64\n",
      " 13  PaperlessBilling_Yes                     7043 non-null   int64\n",
      " 14  Partner_Yes                              7043 non-null   int64\n",
      " 15  PaymentMethod_Bank transfer (automatic)  7043 non-null   int64\n",
      " 16  PaymentMethod_Credit card (automatic)    7043 non-null   int64\n",
      " 17  PaymentMethod_Electronic check           7043 non-null   int64\n",
      " 18  PaymentMethod_Mailed check               7043 non-null   int64\n",
      " 19  SeniorCitizen                            7043 non-null   int64\n",
      " 20  StreamingMovies_None                     7043 non-null   int64\n",
      " 21  StreamingMovies_Yes                      7043 non-null   int64\n",
      " 22  StreamingTV_None                         7043 non-null   int64\n",
      " 23  StreamingTV_Yes                          7043 non-null   int64\n",
      " 24  TechSupport_None                         7043 non-null   int64\n",
      " 25  TechSupport_Yes                          7043 non-null   int64\n",
      " 26  TotalCharges                             7043 non-null   int64\n",
      " 27  Type_Month-to-month                      7043 non-null   int64\n",
      " 28  Type_One year                            7043 non-null   int64\n",
      " 29  Type_Two year                            7043 non-null   int64\n",
      " 30  gender_Male                              7043 non-null   int64\n",
      " 31  BeginYear                                7043 non-null   int64\n",
      " 32  BeginMonth                               7043 non-null   int64\n",
      " 33  BeginDay                                 7043 non-null   int64\n",
      "dtypes: int64(34)\n",
      "memory usage: 1.8 MB\n",
      "None\n"
     ]
    },
    {
     "data": {
      "text/plain": [
       "(7043, 34)"
      ]
     },
     "metadata": {},
     "output_type": "display_data"
    }
   ],
   "source": [
    "print(final_df.info())\n",
    "\n",
    "display(final_df.shape)\n"
   ]
  },
  {
   "cell_type": "markdown",
   "metadata": {},
   "source": [
    "The data is now converted to proper datatypes, and has been onehot encoded. Now it can be split into training, testing and validation sets while addressing the target class imbalance. "
   ]
  },
  {
   "cell_type": "code",
   "execution_count": 24,
   "metadata": {},
   "outputs": [],
   "source": [
    "X = final_df.drop('Churn', axis=1)\n",
    "y = final_df['Churn']\n",
    "\n",
    "\n",
    "X_train_val, X_test, y_train_val, y_test = train_test_split(X, y, test_size=0.2, random_state=42)\n",
    "\n",
    "\n",
    "X_train, X_val, y_train, y_val = train_test_split(X_train_val, y_train_val, test_size=0.2, random_state=42)\n",
    "\n",
    "\n",
    "def random_oversampling(X, y):\n",
    "    minority_class = y.value_counts().idxmin()\n",
    "    majority_class = y.value_counts().idxmax()\n",
    "\n",
    "    X_minority = X[y == minority_class]\n",
    "    y_minority = y[y == minority_class]\n",
    "\n",
    "    X_majority = X[y == majority_class]\n",
    "    y_majority = y[y == majority_class]\n",
    "\n",
    "    oversampled_indices = np.random.choice(len(X_minority), size=len(X_majority), replace=True)\n",
    "\n",
    "    X_oversampled = X_minority.iloc[oversampled_indices]\n",
    "    y_oversampled = y_minority.iloc[oversampled_indices]\n",
    "\n",
    "    X_resampled = pd.concat([X_oversampled, X_majority])\n",
    "    y_resampled = pd.concat([y_oversampled, y_majority])\n",
    "\n",
    "    return X_resampled, y_resampled\n",
    "\n",
    "\n",
    "X_train_resampled, y_train_resampled = random_oversampling(X_train, y_train)"
   ]
  },
  {
   "cell_type": "code",
   "execution_count": 25,
   "metadata": {
    "scrolled": true
   },
   "outputs": [
    {
     "name": "stdout",
     "output_type": "stream",
     "text": [
      "Class counts in oversampled training set:\n",
      "0    3316\n",
      "1    3316\n",
      "Name: Churn, dtype: int64\n",
      "\n",
      "Class proportions in oversampled training set:\n",
      "0    0.5\n",
      "1    0.5\n",
      "Name: Churn, dtype: float64\n"
     ]
    }
   ],
   "source": [
    "\n",
    "print(\"Class counts in oversampled training set:\")\n",
    "print(y_train_resampled.value_counts())\n",
    "\n",
    "\n",
    "print(\"\\nClass proportions in oversampled training set:\")\n",
    "print(y_train_resampled.value_counts() / len(y_train_resampled))"
   ]
  },
  {
   "cell_type": "markdown",
   "metadata": {},
   "source": [
    "The data has been split into training, testing and validation sets. Additionally, the class imbalance has been addressed on the training data, but can be redone in a different way if needed. I will now test four different types of models in order to find which is best for the data. "
   ]
  },
  {
   "cell_type": "code",
   "execution_count": 26,
   "metadata": {
    "scrolled": false
   },
   "outputs": [
    {
     "name": "stderr",
     "output_type": "stream",
     "text": [
      "/opt/conda/lib/python3.9/site-packages/sklearn/linear_model/_logistic.py:763: ConvergenceWarning: lbfgs failed to converge (status=1):\n",
      "STOP: TOTAL NO. of ITERATIONS REACHED LIMIT.\n",
      "\n",
      "Increase the number of iterations (max_iter) or scale the data as shown in:\n",
      "    https://scikit-learn.org/stable/modules/preprocessing.html\n",
      "Please also refer to the documentation for alternative solver options:\n",
      "    https://scikit-learn.org/stable/modules/linear_model.html#logistic-regression\n",
      "  n_iter_i = _check_optimize_result(\n"
     ]
    },
    {
     "name": "stdout",
     "output_type": "stream",
     "text": [
      "Gradient Boosting: AUC-ROC = 0.882, Accuracy = 0.801\n",
      "Logistic Regression: AUC-ROC = 0.834, Accuracy = 0.745\n",
      "Random Forest: AUC-ROC = 0.860, Accuracy = 0.827\n",
      "Neural Network: AUC-ROC = 0.801, Accuracy = 0.476\n",
      "\n",
      "The best model based on AUC-ROC is: Gradient Boosting\n"
     ]
    }
   ],
   "source": [
    "random_state = 42  \n",
    "\n",
    "\n",
    "gbm = GradientBoostingClassifier(random_state=random_state)\n",
    "gbm.fit(X_train_resampled, y_train_resampled)\n",
    "y_pred_proba_gbm = gbm.predict_proba(X_val)[:, 1]\n",
    "gbm_auc = roc_auc_score(y_val, y_pred_proba_gbm)\n",
    "gbm_accuracy = accuracy_score(y_val, y_pred_proba_gbm > 0.5)\n",
    "\n",
    "\n",
    "logreg = LogisticRegression(random_state=random_state)\n",
    "logreg.fit(X_train_resampled, y_train_resampled)\n",
    "y_pred_proba_logreg = logreg.predict_proba(X_val)[:, 1]\n",
    "logreg_auc = roc_auc_score(y_val, y_pred_proba_logreg)\n",
    "logreg_accuracy = accuracy_score(y_val, y_pred_proba_logreg > 0.5)\n",
    "\n",
    "\n",
    "rf = RandomForestClassifier(random_state=random_state)\n",
    "rf.fit(X_train_resampled, y_train_resampled)\n",
    "y_pred_proba_rf = rf.predict_proba(X_val)[:, 1]\n",
    "rf_auc = roc_auc_score(y_val, y_pred_proba_rf)\n",
    "rf_accuracy = accuracy_score(y_val, y_pred_proba_rf > 0.5)\n",
    "\n",
    "\n",
    "nn = MLPClassifier(hidden_layer_sizes=(100,), max_iter=300, random_state=random_state)\n",
    "nn.fit(X_train_resampled, y_train_resampled)\n",
    "y_pred_proba_nn = nn.predict_proba(X_val)[:, 1]\n",
    "nn_auc = roc_auc_score(y_val, y_pred_proba_nn)\n",
    "nn_accuracy = accuracy_score(y_val, y_pred_proba_nn > 0.5)\n",
    "\n",
    "\n",
    "print(\"Gradient Boosting: AUC-ROC = {:.3f}, Accuracy = {:.3f}\".format(gbm_auc, gbm_accuracy))\n",
    "print(\"Logistic Regression: AUC-ROC = {:.3f}, Accuracy = {:.3f}\".format(logreg_auc, logreg_accuracy))\n",
    "print(\"Random Forest: AUC-ROC = {:.3f}, Accuracy = {:.3f}\".format(rf_auc, rf_accuracy))\n",
    "print(\"Neural Network: AUC-ROC = {:.3f}, Accuracy = {:.3f}\".format(nn_auc, nn_accuracy))\n",
    "\n",
    "\n",
    "best_model = max([('Gradient Boosting', gbm_auc), ('Logistic Regression', logreg_auc),\n",
    "                  ('Random Forest', rf_auc), ('Neural Network', nn_auc)], key=lambda x: x[1])\n",
    "\n",
    "print(\"\\nThe best model based on AUC-ROC is:\", best_model[0])\n"
   ]
  },
  {
   "cell_type": "markdown",
   "metadata": {},
   "source": [
    "Based on this basic validation, it seems the gradient boosting model should be focused on while going into hyperparameter testing. Both the AUC-ROC score and the accuracy score for graident boosting binary classifications are better than other models, with the exception of random forest, which has a higher accuracy. "
   ]
  },
  {
   "cell_type": "code",
   "execution_count": null,
   "metadata": {},
   "outputs": [],
   "source": [
    "param_grid = {\n",
    "    'n_estimators': [100, 200, 300],\n",
    "    'learning_rate': [0.01, 0.1, 1],\n",
    "    'max_depth': [3, 5, 7],\n",
    "    'min_samples_split': [2, 5, 10],\n",
    "    'min_samples_leaf': [1, 2, 4]\n",
    "}\n",
    "\n",
    "gbm = GradientBoostingClassifier()\n",
    "\n",
    "\n",
    "grid_search = GridSearchCV(estimator=gbm, param_grid=param_grid, cv=3, scoring='roc_auc', n_jobs=-1, verbose=3)\n",
    "\n",
    "\n",
    "grid_search.fit(X_train_resampled, y_train_resampled)\n",
    "\n",
    "\n",
    "best_params = grid_search.best_params_\n",
    "\n",
    "print(\"The best parameters for the Gradient Boosting model are:\", best_params)\n"
   ]
  },
  {
   "cell_type": "markdown",
   "metadata": {},
   "source": [
    "The best hyperparametes were {'learning_rate': 1, 'max_depth': 7, 'min_samples_leaf': 4, 'min_samples_split': 5, 'n_estimators': 300} for the gradient boosting model. I forgot to set a random state value unfortunately, but I would assume it would be similar. "
   ]
  },
  {
   "cell_type": "code",
   "execution_count": 27,
   "metadata": {},
   "outputs": [
    {
     "name": "stdout",
     "output_type": "stream",
     "text": [
      "Validation AUC-ROC: 0.866\n"
     ]
    }
   ],
   "source": [
    "hyperparameters = {\n",
    "    'n_estimators': 300,\n",
    "    'learning_rate': 1,\n",
    "    'max_depth': 7,\n",
    "    'min_samples_split': 5,\n",
    "    'min_samples_leaf': 4,\n",
    "    'random_state': random_state\n",
    "}\n",
    "\n",
    "best_gbm = GradientBoostingClassifier(**hyperparameters)\n",
    "\n",
    "best_gbm.subsample = 0.8\n",
    "best_gbm.n_iter_no_change = 5\n",
    "\n",
    "best_gbm.fit(X_train_resampled, y_train_resampled)\n",
    "\n",
    "y_val_pred_proba = best_gbm.predict_proba(X_val)[:, 1]\n",
    "\n",
    "val_auc = roc_auc_score(y_val, y_val_pred_proba)\n",
    "print(f\"Validation AUC-ROC: {val_auc:.3f}\")\n"
   ]
  },
  {
   "cell_type": "markdown",
   "metadata": {},
   "source": [
    "Utilizing gradient boosting regularlization may help improve the model. The test AUC-ROC was .875 after these changes. This can be further improved."
   ]
  },
  {
   "cell_type": "markdown",
   "metadata": {},
   "source": [
    "In order to determine feature importance, I will create a feature_importance test below. Afterwards, I shall prune out the worst features. "
   ]
  },
  {
   "cell_type": "code",
   "execution_count": 28,
   "metadata": {
    "scrolled": false
   },
   "outputs": [
    {
     "name": "stdout",
     "output_type": "stream",
     "text": [
      "                                    Feature  Importance (MDI)\n",
      "0                            Dependents_Yes      4.332831e-03\n",
      "1                     DeviceProtection_None      3.316969e-05\n",
      "2                      DeviceProtection_Yes      5.976448e-03\n",
      "3               InternetService_Fiber optic      4.650051e-02\n",
      "4                      InternetService_None      1.396515e-04\n",
      "5                            MonthlyCharges      9.649081e-02\n",
      "6                        MultipleLines_None      3.427489e-03\n",
      "7                         MultipleLines_Yes      1.396671e-02\n",
      "8                         OnlineBackup_None      1.776209e-03\n",
      "9                          OnlineBackup_Yes      8.114055e-03\n",
      "10                      OnlineSecurity_None      1.285971e-09\n",
      "11                       OnlineSecurity_Yes      5.633312e-03\n",
      "12                     PaperlessBilling_Yes      9.081756e-03\n",
      "13                              Partner_Yes      5.562785e-03\n",
      "14  PaymentMethod_Bank transfer (automatic)      3.127446e-03\n",
      "15    PaymentMethod_Credit card (automatic)      2.968780e-03\n",
      "16           PaymentMethod_Electronic check      1.571617e-02\n",
      "17               PaymentMethod_Mailed check      3.965237e-03\n",
      "18                            SeniorCitizen      9.578889e-03\n",
      "19                     StreamingMovies_None      5.758316e-03\n",
      "20                      StreamingMovies_Yes      2.265916e-02\n",
      "21                         StreamingTV_None      5.017185e-04\n",
      "22                          StreamingTV_Yes      6.489487e-03\n",
      "23                         TechSupport_None      8.019407e-04\n",
      "24                          TechSupport_Yes      7.740531e-03\n",
      "25                             TotalCharges      3.259948e-01\n",
      "26                      Type_Month-to-month      1.931671e-01\n",
      "27                            Type_One year      9.597430e-03\n",
      "28                            Type_Two year      1.441568e-03\n",
      "29                              gender_Male      7.749428e-03\n",
      "30                                BeginYear      5.696451e-02\n",
      "31                               BeginMonth      1.247417e-01\n",
      "32                                 BeginDay      0.000000e+00\n"
     ]
    }
   ],
   "source": [
    "gbm = GradientBoostingClassifier(**hyperparameters)\n",
    "gbm.fit(X_train, y_train)\n",
    "\n",
    "\n",
    "importances = gbm.feature_importances_\n",
    "\n",
    "\n",
    "feature_importance_df = pd.DataFrame({\n",
    "    \"Feature\": X.columns,\n",
    "    \"Importance (MDI)\": importances\n",
    "})\n",
    "\n",
    "print(feature_importance_df)"
   ]
  },
  {
   "cell_type": "code",
   "execution_count": 29,
   "metadata": {
    "scrolled": true
   },
   "outputs": [
    {
     "name": "stdout",
     "output_type": "stream",
     "text": [
      "The ten least important features are: ['BeginDay', 'OnlineSecurity_None', 'DeviceProtection_None', 'InternetService_None', 'StreamingTV_None', 'TechSupport_None', 'Type_Two year', 'OnlineBackup_None', 'PaymentMethod_Credit card (automatic)', 'PaymentMethod_Bank transfer (automatic)']\n"
     ]
    }
   ],
   "source": [
    "sorted_df = feature_importance_df.sort_values(by=\"Importance (MDI)\")\n",
    "\n",
    "\n",
    "low_importance_features = sorted_df[\"Feature\"].head(10).tolist()\n",
    "\n",
    "print(\"The ten least important features are:\", low_importance_features)\n"
   ]
  },
  {
   "cell_type": "code",
   "execution_count": 30,
   "metadata": {},
   "outputs": [
    {
     "name": "stdout",
     "output_type": "stream",
     "text": [
      "Updated final_df after removing low-importance features:\n",
      "<class 'pandas.core.frame.DataFrame'>\n",
      "Int64Index: 6632 entries, 1334 to 6651\n",
      "Data columns (total 23 columns):\n",
      " #   Column                          Non-Null Count  Dtype\n",
      "---  ------                          --------------  -----\n",
      " 0   Dependents_Yes                  6632 non-null   int64\n",
      " 1   DeviceProtection_Yes            6632 non-null   int64\n",
      " 2   InternetService_Fiber optic     6632 non-null   int64\n",
      " 3   MonthlyCharges                  6632 non-null   int64\n",
      " 4   MultipleLines_None              6632 non-null   int64\n",
      " 5   MultipleLines_Yes               6632 non-null   int64\n",
      " 6   OnlineBackup_Yes                6632 non-null   int64\n",
      " 7   OnlineSecurity_Yes              6632 non-null   int64\n",
      " 8   PaperlessBilling_Yes            6632 non-null   int64\n",
      " 9   Partner_Yes                     6632 non-null   int64\n",
      " 10  PaymentMethod_Electronic check  6632 non-null   int64\n",
      " 11  PaymentMethod_Mailed check      6632 non-null   int64\n",
      " 12  SeniorCitizen                   6632 non-null   int64\n",
      " 13  StreamingMovies_None            6632 non-null   int64\n",
      " 14  StreamingMovies_Yes             6632 non-null   int64\n",
      " 15  StreamingTV_Yes                 6632 non-null   int64\n",
      " 16  TechSupport_Yes                 6632 non-null   int64\n",
      " 17  TotalCharges                    6632 non-null   int64\n",
      " 18  Type_Month-to-month             6632 non-null   int64\n",
      " 19  Type_One year                   6632 non-null   int64\n",
      " 20  gender_Male                     6632 non-null   int64\n",
      " 21  BeginYear                       6632 non-null   int64\n",
      " 22  BeginMonth                      6632 non-null   int64\n",
      "dtypes: int64(23)\n",
      "memory usage: 1.2 MB\n",
      "None\n"
     ]
    }
   ],
   "source": [
    "low_importance_features = ['BeginDay', 'OnlineSecurity_None', 'DeviceProtection_None', 'InternetService_None', 'StreamingTV_None', 'TechSupport_None', 'Type_Two year', 'OnlineBackup_None', 'PaymentMethod_Credit card (automatic)', 'PaymentMethod_Bank transfer (automatic)']\n",
    "\n",
    "X_train_resampled_features_removed = X_train_resampled.drop(columns=low_importance_features)\n",
    "\n",
    "X_val_features_removed= X_val.drop(columns=low_importance_features)\n",
    "\n",
    "X_test_features_removed= X_test.drop(columns=low_importance_features)\n",
    "\n",
    "print(\"Updated final_df after removing low-importance features:\")\n",
    "print(X_train_resampled_features_removed.info())\n"
   ]
  },
  {
   "cell_type": "markdown",
   "metadata": {},
   "source": [
    "I have removed the least important features in an attempt to create a model that is better able to focus on features that truly are immportant to predicting churn. I removed the least important features from the validation set, the training set and the test set so that they all have the same features. "
   ]
  },
  {
   "cell_type": "code",
   "execution_count": 31,
   "metadata": {},
   "outputs": [
    {
     "name": "stdout",
     "output_type": "stream",
     "text": [
      "Validation AUC-ROC: 0.863\n"
     ]
    }
   ],
   "source": [
    "hyperparameters = {\n",
    "    'n_estimators': 300,\n",
    "    'learning_rate': 1,\n",
    "    'max_depth': 7,\n",
    "    'min_samples_split': 5,\n",
    "    'min_samples_leaf': 4,\n",
    "    'random_state': random_state\n",
    "}\n",
    "\n",
    "best_gbm = GradientBoostingClassifier(**hyperparameters)\n",
    "\n",
    "best_gbm.subsample = 0.8\n",
    "best_gbm.n_iter_no_change = 5\n",
    "\n",
    "best_gbm.fit(X_train_resampled_features_removed, y_train_resampled)\n",
    "\n",
    "y_val_pred_proba = best_gbm.predict_proba(X_val_features_removed)[:, 1]\n",
    "\n",
    "val_auc = roc_auc_score(y_val, y_val_pred_proba)\n",
    "print(f\"Validation AUC-ROC: {val_auc:.3f}\")"
   ]
  },
  {
   "cell_type": "markdown",
   "metadata": {},
   "source": [
    "A marked improvement was observed when removing the least important features. This is not always a good idea to do from what I understand, but in trying it, found that it worked for this model. Now, I must test this against the test set."
   ]
  },
  {
   "cell_type": "code",
   "execution_count": 32,
   "metadata": {},
   "outputs": [
    {
     "name": "stdout",
     "output_type": "stream",
     "text": [
      "Validation AUC-ROC (Dummy): 0.499\n",
      "Validation Accuracy (Dummy): 0.500\n"
     ]
    }
   ],
   "source": [
    "from sklearn.dummy import DummyClassifier\n",
    "from sklearn.metrics import roc_auc_score, accuracy_score\n",
    "\n",
    "\n",
    "dummy = DummyClassifier(strategy='stratified', random_state=42)\n",
    "\n",
    "dummy.fit(X_train_resampled_features_removed, y_train_resampled)\n",
    "\n",
    "\n",
    "y_val_pred_dummy = dummy.predict(X_val_features_removed)\n",
    "\n",
    "\n",
    "val_auc_dummy = roc_auc_score(y_val, y_val_pred_dummy)\n",
    "print(f\"Validation AUC-ROC (Dummy): {val_auc_dummy:.3f}\")\n",
    "\n",
    "val_accuracy_dummy = accuracy_score(y_val, y_val_pred_dummy)\n",
    "print(f\"Validation Accuracy (Dummy): {val_accuracy_dummy:.3f}\")\n"
   ]
  },
  {
   "cell_type": "code",
   "execution_count": 33,
   "metadata": {},
   "outputs": [
    {
     "name": "stdout",
     "output_type": "stream",
     "text": [
      "Test AUC-ROC: 0.886\n",
      "Test Accuracy: 0.841\n"
     ]
    }
   ],
   "source": [
    "y_test_pred_proba = best_gbm.predict_proba(X_test_features_removed)[:, 1]\n",
    "\n",
    "\n",
    "test_auc = roc_auc_score(y_test, y_test_pred_proba)\n",
    "print(f\"Test AUC-ROC: {test_auc:.3f}\")\n",
    "\n",
    "\n",
    "\n",
    "y_test_pred = best_gbm.predict(X_test_features_removed)\n",
    "\n",
    "\n",
    "test_accuracy = accuracy_score(y_test, y_test_pred)\n",
    "print(f\"Test Accuracy: {test_accuracy:.3f}\")\n"
   ]
  },
  {
   "cell_type": "markdown",
   "metadata": {},
   "source": [
    "After applying hyperparameter tuning, regularization and feature selection, I have a final AUC-ROC score of .894, and a final accuracy of .841 when testing against the test set. This surpasses the threshold values set for AUC-ROC, which suggests this model is a success. Going forward, it could potentially be refined further, and the features of least and most importance could be looked at more closely, but this is currently a great model to work off from for the purposes of addressing some customers that risk churning. Upon rerunning all of my code several times, it seems I keep getting slightly different test values here, even though I tried to add random states wherever I could. I presume that I messed something up somewhere so it remains random, however the results still stand. Compared to the dummy model, my model performs incredibly well. "
   ]
  },
  {
   "cell_type": "markdown",
   "metadata": {},
   "source": [
    "## Project Report\n",
    "\n",
    "Now that the project has been completed, a project report outlining the success, process and difficulties of building a model to predict churn will be placed here. Before creating the report, I will paste my original work plan below so that it can be referenced in the report\n",
    "\n",
    "\n",
    "Plan:\n",
    "\n",
    "    Analyze the data more closely for class imbalances, needed information, useless information, and any opportunities for feature engineering. Take note of these things.\n",
    "\n",
    "    one hot encoding and new columns based on Enddate may be done.\n",
    "    research seasonality of data more closely.\n",
    "    Begin model training. Several different models may be appropriate to try for this task, and so it is imperative to find the one that is most successful. Primary metric being AUC-ROC and the addition one being accuracy, so both of these will be taken into account when training models. A good start would be gradient boosting models, logistic regression models, random forest models and neural networks.\n",
    "\n",
    "    Hyperparameter tuning of the best model will be done.\n",
    "\n",
    "    Assess the progress so far, and if needbe revisit the data and make any needed changes.\n",
    "\n",
    "    Create the final project report.\n",
    "    \n",
    "    \n",
    "    \n",
    "    \n",
    "    \n",
    "\n",
    "* The intial plan for this project was straightforward, but was somewhat comprehensive. Upon review, I beleive that every part of this plan was followed, more or less. I did indeed implement one hot encoding, I balanced the classes, and I created a new column based on EndDate. All models listed were tested, and after gradient boosting was found to be the superior model, hyperparameter tuning  was performed. \n",
    "*\n",
    "* Initally, a serious issue that I encountered was that merging the dataframes together took far too much memory. There is no conceivable reason that I stumbled upon for this being the case, but I had to try various methods in order to merge the dataframs in chunks. This led to some mistakes and overlooked nuances to such a procedure, causing further issues down the line. This was eventually solved by sorting each dataset before merging so that customerID values were merged at the same time, preventing the loss of data that I was experiencing. I never did find out why my initial straightforward method of dataframe merging caused so many issues, but perhaps it had something to do with the fact that they were not all exactly the same size, or perhaps missing values were causing issues. Regardless, the issue was solved through loading the dataframes into a database. This took a lot of research into the issue before I found this solution, but I eventually came to solve the issue nontheless.\n",
    "*\n",
    "* I made some mistakes in the splitting of my data into training, testing and validation sets as well, causing issues. The class imbalancing that was done needed to be done only to the training set, and this was easily remedied within the code. \n",
    "*\n",
    "* In terms of solving this binary classification task, some of the significant key steps early on were the elimination of null values, one hot encoding the data, and creating a new column for the target, which was churn\n",
    "*\n",
    "* Later on, after finding the best model, feature selection and gradient boosting regularization techniques were instrumental in preventing overfitting of the data, and helping the model generalize well to new, unseen data. \n",
    "*\n",
    "* Finally, after all of the work was done, the final model was complete. This final model was a gradient boosting model with fine-tuned hyperparameters. This model also needed some gradient boosting regularization during training, with some feature selection done on the data set in order to use the most relavant data in making predictions. The final quality scores of this model when tested against the test set are as follows: Test AUC-ROC: 0.886 and Test Accuracy: 0.841. I did not paste the model specifically in this report, as it can be found earlier in the Jupyter notebook file with all its relevent details. "
   ]
  }
 ],
 "metadata": {
  "kernelspec": {
   "display_name": "Python 3 (ipykernel)",
   "language": "python",
   "name": "python3"
  },
  "language_info": {
   "codemirror_mode": {
    "name": "ipython",
    "version": 3
   },
   "file_extension": ".py",
   "mimetype": "text/x-python",
   "name": "python",
   "nbconvert_exporter": "python",
   "pygments_lexer": "ipython3",
   "version": "3.9.5"
  },
  "toc": {
   "base_numbering": 1,
   "nav_menu": {},
   "number_sections": true,
   "sideBar": true,
   "skip_h1_title": true,
   "title_cell": "Table of Contents",
   "title_sidebar": "Contents",
   "toc_cell": false,
   "toc_position": {},
   "toc_section_display": true,
   "toc_window_display": false
  }
 },
 "nbformat": 4,
 "nbformat_minor": 2
}
