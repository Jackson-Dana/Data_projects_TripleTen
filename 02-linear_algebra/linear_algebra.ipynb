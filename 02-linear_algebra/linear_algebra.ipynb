{
 "cells": [
  {
   "cell_type": "markdown",
   "metadata": {},
   "source": [
    "# Statement"
   ]
  },
  {
   "cell_type": "markdown",
   "metadata": {},
   "source": [
    "The Sure Tomorrow insurance company wants to solve several tasks with the help of Machine Learning and you are asked to evaluate that possibility.\n",
    "\n",
    "- Task 1: Find customers who are similar to a given customer. This will help the company's agents with marketing.\n",
    "- Task 2: Predict whether a new customer is likely to receive an insurance benefit. Can a prediction model do better than a dummy model?\n",
    "- Task 3: Predict the number of insurance benefits a new customer is likely to receive using a linear regression model.\n",
    "- Task 4: Protect clients' personal data without breaking the model from the previous task. It's necessary to develop a data transformation algorithm that would make it hard to recover personal information if the data fell into the wrong hands. This is called data masking, or data obfuscation. But the data should be protected in such a way that the quality of machine learning models doesn't suffer. You don't need to pick the best model, just prove that the algorithm works correctly."
   ]
  },
  {
   "cell_type": "code",
   "execution_count": 1,
   "metadata": {},
   "outputs": [
    {
     "name": "stdout",
     "output_type": "stream",
     "text": [
      "Requirement already satisfied: scikit-learn in /opt/conda/lib/python3.9/site-packages (0.24.1)\n",
      "Collecting scikit-learn\n",
      "  Downloading scikit_learn-1.3.2-cp39-cp39-manylinux_2_17_x86_64.manylinux2014_x86_64.whl (10.9 MB)\n",
      "\u001b[K     |████████████████████████████████| 10.9 MB 11.9 MB/s eta 0:00:01\n",
      "\u001b[?25hRequirement already satisfied: scipy>=1.5.0 in /opt/conda/lib/python3.9/site-packages (from scikit-learn) (1.8.0)\n",
      "Requirement already satisfied: threadpoolctl>=2.0.0 in /opt/conda/lib/python3.9/site-packages (from scikit-learn) (3.1.0)\n",
      "Requirement already satisfied: numpy<2.0,>=1.17.3 in /opt/conda/lib/python3.9/site-packages (from scikit-learn) (1.21.1)\n",
      "Collecting joblib>=1.1.1\n",
      "  Downloading joblib-1.3.2-py3-none-any.whl (302 kB)\n",
      "\u001b[K     |████████████████████████████████| 302 kB 62.6 MB/s eta 0:00:01\n",
      "\u001b[?25hInstalling collected packages: joblib, scikit-learn\n",
      "  Attempting uninstall: joblib\n",
      "    Found existing installation: joblib 1.1.0\n",
      "    Uninstalling joblib-1.1.0:\n",
      "\u001b[31mERROR: Could not install packages due to an OSError: [Errno 13] Permission denied: 'INSTALLER'\n",
      "Consider using the `--user` option or check the permissions.\n",
      "\u001b[0m\n",
      "Note: you may need to restart the kernel to use updated packages.\n"
     ]
    }
   ],
   "source": [
    "pip install scikit-learn --upgrade"
   ]
  },
  {
   "cell_type": "code",
   "execution_count": 2,
   "metadata": {},
   "outputs": [],
   "source": [
    "import numpy as np\n",
    "import pandas as pd\n",
    "\n",
    "import seaborn as sns\n",
    "import matplotlib.pyplot as plt\n",
    "\n",
    "import sklearn.linear_model\n",
    "import sklearn.metrics\n",
    "import sklearn.neighbors\n",
    "import sklearn.preprocessing\n",
    "from sklearn.preprocessing import MaxAbsScaler\n",
    "from sklearn.neighbors import KNeighborsClassifier\n",
    "from sklearn.metrics import f1_score, confusion_matrix\n",
    "from sklearn.neighbors import NearestNeighbors\n",
    "from sklearn.linear_model import LinearRegression\n",
    "\n",
    "from sklearn.utils import resample\n",
    "from sklearn.preprocessing import StandardScaler\n",
    "\n",
    "\n",
    "from sklearn.metrics import mean_squared_error, r2_score\n",
    "import math\n",
    "\n",
    "from sklearn.model_selection import train_test_split\n",
    "\n",
    "from IPython.display import display"
   ]
  },
  {
   "cell_type": "code",
   "execution_count": 3,
   "metadata": {},
   "outputs": [],
   "source": [
    "df = pd.read_csv('/datasets/insurance_us.csv')"
   ]
  },
  {
   "cell_type": "markdown",
   "metadata": {},
   "source": [
    "We rename the colums to make the code look more consistent with its style."
   ]
  },
  {
   "cell_type": "code",
   "execution_count": 4,
   "metadata": {},
   "outputs": [],
   "source": [
    "df = df.rename(columns={'Gender': 'gender', 'Age': 'age', 'Salary': 'income', 'Family members': 'family_members', 'Insurance benefits': 'insurance_benefits'})"
   ]
  },
  {
   "cell_type": "code",
   "execution_count": 5,
   "metadata": {},
   "outputs": [
    {
     "data": {
      "text/html": [
       "<div>\n",
       "<style scoped>\n",
       "    .dataframe tbody tr th:only-of-type {\n",
       "        vertical-align: middle;\n",
       "    }\n",
       "\n",
       "    .dataframe tbody tr th {\n",
       "        vertical-align: top;\n",
       "    }\n",
       "\n",
       "    .dataframe thead th {\n",
       "        text-align: right;\n",
       "    }\n",
       "</style>\n",
       "<table border=\"1\" class=\"dataframe\">\n",
       "  <thead>\n",
       "    <tr style=\"text-align: right;\">\n",
       "      <th></th>\n",
       "      <th>gender</th>\n",
       "      <th>age</th>\n",
       "      <th>income</th>\n",
       "      <th>family_members</th>\n",
       "      <th>insurance_benefits</th>\n",
       "    </tr>\n",
       "  </thead>\n",
       "  <tbody>\n",
       "    <tr>\n",
       "      <th>4766</th>\n",
       "      <td>0</td>\n",
       "      <td>24.0</td>\n",
       "      <td>37100.0</td>\n",
       "      <td>3</td>\n",
       "      <td>0</td>\n",
       "    </tr>\n",
       "    <tr>\n",
       "      <th>4317</th>\n",
       "      <td>1</td>\n",
       "      <td>29.0</td>\n",
       "      <td>29100.0</td>\n",
       "      <td>1</td>\n",
       "      <td>0</td>\n",
       "    </tr>\n",
       "    <tr>\n",
       "      <th>2029</th>\n",
       "      <td>0</td>\n",
       "      <td>24.0</td>\n",
       "      <td>35800.0</td>\n",
       "      <td>4</td>\n",
       "      <td>0</td>\n",
       "    </tr>\n",
       "    <tr>\n",
       "      <th>596</th>\n",
       "      <td>1</td>\n",
       "      <td>29.0</td>\n",
       "      <td>40300.0</td>\n",
       "      <td>1</td>\n",
       "      <td>0</td>\n",
       "    </tr>\n",
       "    <tr>\n",
       "      <th>2782</th>\n",
       "      <td>1</td>\n",
       "      <td>25.0</td>\n",
       "      <td>43000.0</td>\n",
       "      <td>1</td>\n",
       "      <td>0</td>\n",
       "    </tr>\n",
       "    <tr>\n",
       "      <th>4923</th>\n",
       "      <td>0</td>\n",
       "      <td>48.0</td>\n",
       "      <td>58200.0</td>\n",
       "      <td>0</td>\n",
       "      <td>1</td>\n",
       "    </tr>\n",
       "    <tr>\n",
       "      <th>1748</th>\n",
       "      <td>1</td>\n",
       "      <td>20.0</td>\n",
       "      <td>28100.0</td>\n",
       "      <td>1</td>\n",
       "      <td>0</td>\n",
       "    </tr>\n",
       "    <tr>\n",
       "      <th>419</th>\n",
       "      <td>0</td>\n",
       "      <td>30.0</td>\n",
       "      <td>20000.0</td>\n",
       "      <td>2</td>\n",
       "      <td>0</td>\n",
       "    </tr>\n",
       "    <tr>\n",
       "      <th>352</th>\n",
       "      <td>0</td>\n",
       "      <td>31.0</td>\n",
       "      <td>32900.0</td>\n",
       "      <td>1</td>\n",
       "      <td>0</td>\n",
       "    </tr>\n",
       "    <tr>\n",
       "      <th>1420</th>\n",
       "      <td>1</td>\n",
       "      <td>22.0</td>\n",
       "      <td>47800.0</td>\n",
       "      <td>3</td>\n",
       "      <td>0</td>\n",
       "    </tr>\n",
       "  </tbody>\n",
       "</table>\n",
       "</div>"
      ],
      "text/plain": [
       "      gender   age   income  family_members  insurance_benefits\n",
       "4766       0  24.0  37100.0               3                   0\n",
       "4317       1  29.0  29100.0               1                   0\n",
       "2029       0  24.0  35800.0               4                   0\n",
       "596        1  29.0  40300.0               1                   0\n",
       "2782       1  25.0  43000.0               1                   0\n",
       "4923       0  48.0  58200.0               0                   1\n",
       "1748       1  20.0  28100.0               1                   0\n",
       "419        0  30.0  20000.0               2                   0\n",
       "352        0  31.0  32900.0               1                   0\n",
       "1420       1  22.0  47800.0               3                   0"
      ]
     },
     "execution_count": 5,
     "metadata": {},
     "output_type": "execute_result"
    }
   ],
   "source": [
    "df.sample(10)"
   ]
  },
  {
   "cell_type": "code",
   "execution_count": 6,
   "metadata": {},
   "outputs": [
    {
     "name": "stdout",
     "output_type": "stream",
     "text": [
      "<class 'pandas.core.frame.DataFrame'>\n",
      "RangeIndex: 5000 entries, 0 to 4999\n",
      "Data columns (total 5 columns):\n",
      " #   Column              Non-Null Count  Dtype  \n",
      "---  ------              --------------  -----  \n",
      " 0   gender              5000 non-null   int64  \n",
      " 1   age                 5000 non-null   float64\n",
      " 2   income              5000 non-null   float64\n",
      " 3   family_members      5000 non-null   int64  \n",
      " 4   insurance_benefits  5000 non-null   int64  \n",
      "dtypes: float64(2), int64(3)\n",
      "memory usage: 195.4 KB\n"
     ]
    }
   ],
   "source": [
    "df.info()"
   ]
  },
  {
   "cell_type": "code",
   "execution_count": 7,
   "metadata": {},
   "outputs": [],
   "source": [
    "df['age'] = df['age'].round().astype(int)\n"
   ]
  },
  {
   "cell_type": "code",
   "execution_count": 8,
   "metadata": {},
   "outputs": [
    {
     "name": "stdout",
     "output_type": "stream",
     "text": [
      "<class 'pandas.core.frame.DataFrame'>\n",
      "RangeIndex: 5000 entries, 0 to 4999\n",
      "Data columns (total 5 columns):\n",
      " #   Column              Non-Null Count  Dtype  \n",
      "---  ------              --------------  -----  \n",
      " 0   gender              5000 non-null   int64  \n",
      " 1   age                 5000 non-null   int64  \n",
      " 2   income              5000 non-null   float64\n",
      " 3   family_members      5000 non-null   int64  \n",
      " 4   insurance_benefits  5000 non-null   int64  \n",
      "dtypes: float64(1), int64(4)\n",
      "memory usage: 195.4 KB\n"
     ]
    }
   ],
   "source": [
    "df.info()"
   ]
  },
  {
   "cell_type": "code",
   "execution_count": 10,
   "metadata": {},
   "outputs": [
    {
     "data": {
      "text/html": [
       "<div>\n",
       "<style scoped>\n",
       "    .dataframe tbody tr th:only-of-type {\n",
       "        vertical-align: middle;\n",
       "    }\n",
       "\n",
       "    .dataframe tbody tr th {\n",
       "        vertical-align: top;\n",
       "    }\n",
       "\n",
       "    .dataframe thead th {\n",
       "        text-align: right;\n",
       "    }\n",
       "</style>\n",
       "<table border=\"1\" class=\"dataframe\">\n",
       "  <thead>\n",
       "    <tr style=\"text-align: right;\">\n",
       "      <th></th>\n",
       "      <th>gender</th>\n",
       "      <th>age</th>\n",
       "      <th>income</th>\n",
       "      <th>family_members</th>\n",
       "      <th>insurance_benefits</th>\n",
       "    </tr>\n",
       "  </thead>\n",
       "  <tbody>\n",
       "    <tr>\n",
       "      <th>count</th>\n",
       "      <td>5000.000000</td>\n",
       "      <td>5000.000000</td>\n",
       "      <td>5000.000000</td>\n",
       "      <td>5000.000000</td>\n",
       "      <td>5000.000000</td>\n",
       "    </tr>\n",
       "    <tr>\n",
       "      <th>mean</th>\n",
       "      <td>0.499000</td>\n",
       "      <td>30.952800</td>\n",
       "      <td>39916.360000</td>\n",
       "      <td>1.194200</td>\n",
       "      <td>0.148000</td>\n",
       "    </tr>\n",
       "    <tr>\n",
       "      <th>std</th>\n",
       "      <td>0.500049</td>\n",
       "      <td>8.440807</td>\n",
       "      <td>9900.083569</td>\n",
       "      <td>1.091387</td>\n",
       "      <td>0.463183</td>\n",
       "    </tr>\n",
       "    <tr>\n",
       "      <th>min</th>\n",
       "      <td>0.000000</td>\n",
       "      <td>18.000000</td>\n",
       "      <td>5300.000000</td>\n",
       "      <td>0.000000</td>\n",
       "      <td>0.000000</td>\n",
       "    </tr>\n",
       "    <tr>\n",
       "      <th>25%</th>\n",
       "      <td>0.000000</td>\n",
       "      <td>24.000000</td>\n",
       "      <td>33300.000000</td>\n",
       "      <td>0.000000</td>\n",
       "      <td>0.000000</td>\n",
       "    </tr>\n",
       "    <tr>\n",
       "      <th>50%</th>\n",
       "      <td>0.000000</td>\n",
       "      <td>30.000000</td>\n",
       "      <td>40200.000000</td>\n",
       "      <td>1.000000</td>\n",
       "      <td>0.000000</td>\n",
       "    </tr>\n",
       "    <tr>\n",
       "      <th>75%</th>\n",
       "      <td>1.000000</td>\n",
       "      <td>37.000000</td>\n",
       "      <td>46600.000000</td>\n",
       "      <td>2.000000</td>\n",
       "      <td>0.000000</td>\n",
       "    </tr>\n",
       "    <tr>\n",
       "      <th>max</th>\n",
       "      <td>1.000000</td>\n",
       "      <td>65.000000</td>\n",
       "      <td>79000.000000</td>\n",
       "      <td>6.000000</td>\n",
       "      <td>5.000000</td>\n",
       "    </tr>\n",
       "  </tbody>\n",
       "</table>\n",
       "</div>"
      ],
      "text/plain": [
       "            gender          age        income  family_members  \\\n",
       "count  5000.000000  5000.000000   5000.000000     5000.000000   \n",
       "mean      0.499000    30.952800  39916.360000        1.194200   \n",
       "std       0.500049     8.440807   9900.083569        1.091387   \n",
       "min       0.000000    18.000000   5300.000000        0.000000   \n",
       "25%       0.000000    24.000000  33300.000000        0.000000   \n",
       "50%       0.000000    30.000000  40200.000000        1.000000   \n",
       "75%       1.000000    37.000000  46600.000000        2.000000   \n",
       "max       1.000000    65.000000  79000.000000        6.000000   \n",
       "\n",
       "       insurance_benefits  \n",
       "count         5000.000000  \n",
       "mean             0.148000  \n",
       "std              0.463183  \n",
       "min              0.000000  \n",
       "25%              0.000000  \n",
       "50%              0.000000  \n",
       "75%              0.000000  \n",
       "max              5.000000  "
      ]
     },
     "execution_count": 10,
     "metadata": {},
     "output_type": "execute_result"
    }
   ],
   "source": [
    "df.describe()\n"
   ]
  },
  {
   "cell_type": "code",
   "execution_count": 11,
   "metadata": {},
   "outputs": [
    {
     "data": {
      "image/png": "[encoded data removed]",
      "text/plain": [
       "<Figure size 1080x720 with 6 Axes>"
      ]
     },
     "metadata": {
      "needs_background": "light"
     },
     "output_type": "display_data"
    }
   ],
   "source": [
    "f, axes = plt.subplots(2, 3, figsize=(15, 10), sharex=False)\n",
    "\n",
    "\n",
    "sns.histplot(data=df, x=\"gender\", color=\"skyblue\", ax=axes[0, 0])\n",
    "sns.histplot(data=df, x=\"age\", color=\"olive\", ax=axes[0, 1])\n",
    "sns.histplot(data=df, x=\"income\", color=\"gold\", ax=axes[0, 2])\n",
    "sns.histplot(data=df, x=\"family_members\", color=\"teal\", ax=axes[1, 0])\n",
    "sns.histplot(data=df, x=\"insurance_benefits\", color=\"pink\", ax=axes[1, 1])\n",
    "\n",
    "plt.tight_layout()\n",
    "plt.show()\n"
   ]
  },
  {
   "cell_type": "markdown",
   "metadata": {},
   "source": [
    "Looking breifly at the descriptive statistics, all seems to be reasonable and in order. The minimum income of 5300 dollars seems low, but I think that this is an appropriate datapoint. This could be explained by someone being a student or out of work. "
   ]
  },
  {
   "cell_type": "code",
   "execution_count": 12,
   "metadata": {},
   "outputs": [
    {
     "data": {
      "image/png": "[encoded data removed]",
      "text/plain": [
       "<Figure size 864x864 with 30 Axes>"
      ]
     },
     "metadata": {
      "needs_background": "light"
     },
     "output_type": "display_data"
    }
   ],
   "source": [
    "g = sns.pairplot(df, kind='hist')\n",
    "g.fig.set_size_inches(12, 12)"
   ]
  },
  {
   "cell_type": "markdown",
   "metadata": {},
   "source": [
    "Ok, it is a bit difficult to spot obvious groups (clusters) as it is difficult to combine several variables simultaneously (to analyze multivariate distributions). That's where LA and ML can be quite handy."
   ]
  },
  {
   "cell_type": "code",
   "execution_count": 13,
   "metadata": {},
   "outputs": [],
   "source": [
    "feature_names = ['gender', 'age', 'income', 'family_members']"
   ]
  },
  {
   "cell_type": "code",
   "execution_count": 14,
   "metadata": {},
   "outputs": [],
   "source": [
    "feature_names = ['gender', 'age', 'income', 'family_members']\n",
    "\n",
    "transformer_mas = sklearn.preprocessing.MaxAbsScaler().fit(df[feature_names].to_numpy())\n",
    "\n",
    "df_scaled = df.copy()\n",
    "df_scaled.loc[:, feature_names] = transformer_mas.transform(df[feature_names].to_numpy())"
   ]
  },
  {
   "cell_type": "code",
   "execution_count": 15,
   "metadata": {},
   "outputs": [
    {
     "data": {
      "text/html": [
       "<div>\n",
       "<style scoped>\n",
       "    .dataframe tbody tr th:only-of-type {\n",
       "        vertical-align: middle;\n",
       "    }\n",
       "\n",
       "    .dataframe tbody tr th {\n",
       "        vertical-align: top;\n",
       "    }\n",
       "\n",
       "    .dataframe thead th {\n",
       "        text-align: right;\n",
       "    }\n",
       "</style>\n",
       "<table border=\"1\" class=\"dataframe\">\n",
       "  <thead>\n",
       "    <tr style=\"text-align: right;\">\n",
       "      <th></th>\n",
       "      <th>gender</th>\n",
       "      <th>age</th>\n",
       "      <th>income</th>\n",
       "      <th>family_members</th>\n",
       "      <th>insurance_benefits</th>\n",
       "    </tr>\n",
       "  </thead>\n",
       "  <tbody>\n",
       "    <tr>\n",
       "      <th>1516</th>\n",
       "      <td>0.0</td>\n",
       "      <td>0.553846</td>\n",
       "      <td>0.473418</td>\n",
       "      <td>0.000000</td>\n",
       "      <td>0</td>\n",
       "    </tr>\n",
       "    <tr>\n",
       "      <th>3079</th>\n",
       "      <td>0.0</td>\n",
       "      <td>0.600000</td>\n",
       "      <td>0.340506</td>\n",
       "      <td>0.833333</td>\n",
       "      <td>0</td>\n",
       "    </tr>\n",
       "    <tr>\n",
       "      <th>277</th>\n",
       "      <td>1.0</td>\n",
       "      <td>0.492308</td>\n",
       "      <td>0.546835</td>\n",
       "      <td>0.000000</td>\n",
       "      <td>0</td>\n",
       "    </tr>\n",
       "    <tr>\n",
       "      <th>1682</th>\n",
       "      <td>0.0</td>\n",
       "      <td>0.630769</td>\n",
       "      <td>0.456962</td>\n",
       "      <td>0.166667</td>\n",
       "      <td>0</td>\n",
       "    </tr>\n",
       "    <tr>\n",
       "      <th>3293</th>\n",
       "      <td>1.0</td>\n",
       "      <td>0.400000</td>\n",
       "      <td>0.563291</td>\n",
       "      <td>0.166667</td>\n",
       "      <td>0</td>\n",
       "    </tr>\n",
       "  </tbody>\n",
       "</table>\n",
       "</div>"
      ],
      "text/plain": [
       "      gender       age    income  family_members  insurance_benefits\n",
       "1516     0.0  0.553846  0.473418        0.000000                   0\n",
       "3079     0.0  0.600000  0.340506        0.833333                   0\n",
       "277      1.0  0.492308  0.546835        0.000000                   0\n",
       "1682     0.0  0.630769  0.456962        0.166667                   0\n",
       "3293     1.0  0.400000  0.563291        0.166667                   0"
      ]
     },
     "execution_count": 15,
     "metadata": {},
     "output_type": "execute_result"
    }
   ],
   "source": [
    "df_scaled.sample(5)"
   ]
  },
  {
   "cell_type": "code",
   "execution_count": 16,
   "metadata": {},
   "outputs": [],
   "source": [
    "def get_knn(df, n, k, metric, scale=False):\n",
    "    \"\"\"\n",
    "    Returns k nearest neighbors\n",
    "\n",
    "    :param df: pandas DataFrame used to find similar objects within\n",
    "    :param n: object no for which the nearest neighbours are looked for\n",
    "    :param k: the number of the nearest neighbours to return\n",
    "    :param metric: name of distance metric\n",
    "    :param scale: whether to scale the data or not\n",
    "    \"\"\"\n",
    "    \n",
    "    if scale:\n",
    "        scaler = MaxAbsScaler()\n",
    "        df = pd.DataFrame(scaler.fit_transform(df), columns=df.columns)\n",
    "    \n",
    "    nbrs = NearestNeighbors(n_neighbors=k, metric=metric).fit(df)\n",
    "    nbrs_distances, nbrs_indices = nbrs.kneighbors(df.iloc[[n]])\n",
    "    \n",
    "    df_res = pd.concat([\n",
    "        df.iloc[nbrs_indices[0]], \n",
    "        pd.DataFrame(nbrs_distances.T, index=nbrs_indices[0], columns=['distance'])\n",
    "    ], axis=1)\n",
    "    \n",
    "    return df_res\n"
   ]
  },
  {
   "cell_type": "code",
   "execution_count": 17,
   "metadata": {
    "scrolled": true
   },
   "outputs": [
    {
     "name": "stdout",
     "output_type": "stream",
     "text": [
      "Case 1: Data is not scaled, Euclidean distance metric\n",
      "      gender  age   income  family_members  insurance_benefits  distance\n",
      "0          1   41  49600.0               1                   0  0.000000\n",
      "2022       1   41  49600.0               0                   0  1.000000\n",
      "1225       0   42  49600.0               0                   1  2.000000\n",
      "3424       0   38  49600.0               0                   0  3.316625\n",
      "4031       1   44  49600.0               2                   1  3.316625\n"
     ]
    }
   ],
   "source": [
    "n = 0 \n",
    "df1 = get_knn(df, n, k=5, metric='euclidean', scale=False)\n",
    "print(\"Case 1: Data is not scaled, Euclidean distance metric\")\n",
    "print(df1)\n"
   ]
  },
  {
   "cell_type": "code",
   "execution_count": 18,
   "metadata": {
    "scrolled": true
   },
   "outputs": [
    {
     "name": "stdout",
     "output_type": "stream",
     "text": [
      "\n",
      "Case 2: Data is not scaled, Manhattan distance metric\n",
      "      gender  age   income  family_members  insurance_benefits  distance\n",
      "0          1   41  49600.0               1                   0       0.0\n",
      "2022       1   41  49600.0               0                   0       1.0\n",
      "1225       0   42  49600.0               0                   1       4.0\n",
      "3424       0   38  49600.0               0                   0       5.0\n",
      "4031       1   44  49600.0               2                   1       5.0\n"
     ]
    }
   ],
   "source": [
    "df2 = get_knn(df, n, k=5, metric='manhattan', scale=False)\n",
    "print(\"\\nCase 2: Data is not scaled, Manhattan distance metric\")\n",
    "print(df2)"
   ]
  },
  {
   "cell_type": "code",
   "execution_count": 19,
   "metadata": {},
   "outputs": [
    {
     "name": "stdout",
     "output_type": "stream",
     "text": [
      "\n",
      "Case 3: Data is scaled, Euclidean distance metric\n",
      "      gender       age    income  family_members  insurance_benefits  distance\n",
      "0        1.0  0.630769  0.627848        0.166667                 0.0  0.000000\n",
      "2689     1.0  0.630769  0.634177        0.166667                 0.0  0.006329\n",
      "133      1.0  0.615385  0.636709        0.166667                 0.0  0.017754\n",
      "1567     1.0  0.615385  0.602532        0.166667                 0.0  0.029624\n",
      "3365     1.0  0.630769  0.596203        0.166667                 0.0  0.031646\n"
     ]
    }
   ],
   "source": [
    "df3 = get_knn(df, n, k=5, metric='euclidean', scale=True)\n",
    "print(\"\\nCase 3: Data is scaled, Euclidean distance metric\")\n",
    "print(df3)"
   ]
  },
  {
   "cell_type": "code",
   "execution_count": 20,
   "metadata": {},
   "outputs": [
    {
     "name": "stdout",
     "output_type": "stream",
     "text": [
      "\n",
      "Case 4: Data is scaled, Manhattan distance metric\n",
      "      gender       age    income  family_members  insurance_benefits  distance\n",
      "0        1.0  0.630769  0.627848        0.166667                 0.0  0.000000\n",
      "2689     1.0  0.630769  0.634177        0.166667                 0.0  0.006329\n",
      "133      1.0  0.615385  0.636709        0.166667                 0.0  0.024245\n",
      "2103     1.0  0.630769  0.596203        0.166667                 0.0  0.031646\n",
      "3365     1.0  0.630769  0.596203        0.166667                 0.0  0.031646\n"
     ]
    }
   ],
   "source": [
    "df4 = get_knn(df, n, k=5, metric='manhattan', scale=True)\n",
    "print(\"\\nCase 4: Data is scaled, Manhattan distance metric\")\n",
    "print(df4)"
   ]
  },
  {
   "cell_type": "markdown",
   "metadata": {},
   "source": [
    "Answers to the questions"
   ]
  },
  {
   "cell_type": "markdown",
   "metadata": {},
   "source": [
    "**Does the data being not scaled affect the kNN algorithm? If so, how does that appear?** \n",
    "\n",
    "Yes, it appears that when the data is not scaled, larger distances may dominate the calculation. For Euclidian distance, the scaling matters. Scaling vs not scaling results in different datapoints being in the top five closes neibors. "
   ]
  },
  {
   "cell_type": "markdown",
   "metadata": {},
   "source": [
    "**How similar are the results using the Manhattan distance metric (regardless of the scaling)?** \n",
    "\n",
    "It seems that Manhattan distance measurement for this case results in finding nearest neighbors that are completely different if you scale vs not scale. The relative distances seem to follow a somewhat similar pattern though it could be argued. "
   ]
  },
  {
   "cell_type": "code",
   "execution_count": 21,
   "metadata": {},
   "outputs": [],
   "source": [
    "# calculate the target\n",
    "\n",
    "df['insurance_benefits_received'] = (df['insurance_benefits'] > 0).astype(int)"
   ]
  },
  {
   "cell_type": "code",
   "execution_count": 22,
   "metadata": {
    "scrolled": true
   },
   "outputs": [
    {
     "data": {
      "text/plain": [
       "0    4436\n",
       "1     564\n",
       "Name: insurance_benefits_received, dtype: int64"
      ]
     },
     "metadata": {},
     "output_type": "display_data"
    }
   ],
   "source": [
    "# check for the class imbalance with value_counts()\n",
    "\n",
    "display(df['insurance_benefits_received'].value_counts())"
   ]
  },
  {
   "cell_type": "markdown",
   "metadata": {},
   "source": [
    "There is a class imbalance, with many more benefits never being given than having benefits given. I will correct for this. "
   ]
  },
  {
   "cell_type": "code",
   "execution_count": 23,
   "metadata": {},
   "outputs": [],
   "source": [
    "X = df.drop(columns=['insurance_benefits', 'insurance_benefits_received'])\n",
    "y = (df['insurance_benefits'] > 0).astype(int)\n",
    "\n",
    "\n",
    "X_train, X_test, y_train, y_test = train_test_split(X, y, test_size=0.3, random_state=42)\n",
    "\n",
    "\n",
    "df_train = pd.concat([X_train, y_train], axis=1)"
   ]
  },
  {
   "cell_type": "code",
   "execution_count": 24,
   "metadata": {
    "scrolled": true
   },
   "outputs": [
    {
     "name": "stdout",
     "output_type": "stream",
     "text": [
      "0    3097\n",
      "1    3097\n",
      "Name: insurance_benefits, dtype: int64\n"
     ]
    }
   ],
   "source": [
    "df_majority = df_train[df_train.insurance_benefits==0]\n",
    "df_minority = df_train[df_train.insurance_benefits==1]\n",
    "\n",
    "# Upsample minority class\n",
    "df_minority_upsampled = resample(df_minority, \n",
    "                                 replace=True,     \n",
    "                                 n_samples=len(df_majority),   \n",
    "                                 random_state=42) \n",
    "\n",
    "# Combine majority class with upsampled minority class\n",
    "df_upsampled = pd.concat([df_majority, df_minority_upsampled])\n",
    "\n",
    "# Display new class counts\n",
    "print(df_upsampled.insurance_benefits.value_counts())\n",
    "\n",
    "# Separate features and target\n",
    "y_train = df_upsampled.insurance_benefits\n",
    "X_train = df_upsampled.drop('insurance_benefits', axis=1)\n",
    "\n",
    "# Scale the data\n",
    "scaler = StandardScaler()\n",
    "X_train_scaled = scaler.fit_transform(X_train)\n",
    "X_test_scaled = scaler.transform(X_test)"
   ]
  },
  {
   "cell_type": "markdown",
   "metadata": {},
   "source": [
    "Now, the upsampling was done after the training and test set were seperated. "
   ]
  },
  {
   "cell_type": "code",
   "execution_count": 25,
   "metadata": {
    "scrolled": false
   },
   "outputs": [
    {
     "name": "stdout",
     "output_type": "stream",
     "text": [
      "For Original data with k=1:\n",
      "F1: 0.65\n",
      "Confusion Matrix\n",
      "[[0.874      0.01866667]\n",
      " [0.04666667 0.06066667]]\n",
      "For Scaled data with k=1:\n",
      "F1: 0.92\n",
      "Confusion Matrix\n",
      "[[0.88666667 0.006     ]\n",
      " [0.01066667 0.09666667]]\n",
      "For Original data with k=2:\n",
      "F1: 0.65\n",
      "Confusion Matrix\n",
      "[[0.87466667 0.018     ]\n",
      " [0.04733333 0.06      ]]\n",
      "For Scaled data with k=2:\n",
      "F1: 0.92\n",
      "Confusion Matrix\n",
      "[[0.88666667 0.006     ]\n",
      " [0.01066667 0.09666667]]\n",
      "For Original data with k=3:\n",
      "F1: 0.60\n",
      "Confusion Matrix\n",
      "[[0.85066667 0.042     ]\n",
      " [0.04333333 0.064     ]]\n",
      "For Scaled data with k=3:\n",
      "F1: 0.93\n",
      "Confusion Matrix\n",
      "[[0.88066667 0.012     ]\n",
      " [0.004      0.10333333]]\n",
      "For Original data with k=4:\n",
      "F1: 0.60\n",
      "Confusion Matrix\n",
      "[[0.85133333 0.04133333]\n",
      " [0.044      0.06333333]]\n",
      "For Scaled data with k=4:\n",
      "F1: 0.93\n",
      "Confusion Matrix\n",
      "[[0.88066667 0.012     ]\n",
      " [0.004      0.10333333]]\n",
      "For Original data with k=5:\n",
      "F1: 0.56\n",
      "Confusion Matrix\n",
      "[[0.82466667 0.068     ]\n",
      " [0.03933333 0.068     ]]\n",
      "For Scaled data with k=5:\n",
      "F1: 0.91\n",
      "Confusion Matrix\n",
      "[[0.87466667 0.018     ]\n",
      " [0.00266667 0.10466667]]\n",
      "For Original data with k=6:\n",
      "F1: 0.56\n",
      "Confusion Matrix\n",
      "[[0.828      0.06466667]\n",
      " [0.04066667 0.06666667]]\n",
      "For Scaled data with k=6:\n",
      "F1: 0.91\n",
      "Confusion Matrix\n",
      "[[0.87466667 0.018     ]\n",
      " [0.00333333 0.104     ]]\n",
      "For Original data with k=7:\n",
      "F1: 0.50\n",
      "Confusion Matrix\n",
      "[[0.79133333 0.10133333]\n",
      " [0.03733333 0.07      ]]\n",
      "For Scaled data with k=7:\n",
      "F1: 0.88\n",
      "Confusion Matrix\n",
      "[[0.864      0.02866667]\n",
      " [0.00133333 0.106     ]]\n",
      "For Original data with k=8:\n",
      "F1: 0.49\n",
      "Confusion Matrix\n",
      "[[0.796      0.09666667]\n",
      " [0.042      0.06533333]]\n",
      "For Scaled data with k=8:\n",
      "F1: 0.88\n",
      "Confusion Matrix\n",
      "[[0.86466667 0.028     ]\n",
      " [0.00133333 0.106     ]]\n",
      "For Original data with k=9:\n",
      "F1: 0.44\n",
      "Confusion Matrix\n",
      "[[0.75866667 0.134     ]\n",
      " [0.03933333 0.068     ]]\n",
      "For Scaled data with k=9:\n",
      "F1: 0.86\n",
      "Confusion Matrix\n",
      "[[8.58000000e-01 3.46666667e-02]\n",
      " [6.66666667e-04 1.06666667e-01]]\n",
      "For Original data with k=10:\n",
      "F1: 0.44\n",
      "Confusion Matrix\n",
      "[[0.766      0.12666667]\n",
      " [0.042      0.06533333]]\n",
      "For Scaled data with k=10:\n",
      "F1: 0.86\n",
      "Confusion Matrix\n",
      "[[8.58666667e-01 3.40000000e-02]\n",
      " [6.66666667e-04 1.06666667e-01]]\n"
     ]
    }
   ],
   "source": [
    "def eval_classifier(y_true, y_pred):\n",
    "    f1 = f1_score(y_true, y_pred)\n",
    "    print(f'F1: {f1:.2f}')\n",
    "    cm = confusion_matrix(y_true, y_pred, normalize='all')\n",
    "    print('Confusion Matrix')\n",
    "    print(cm)\n",
    "\n",
    "# Evaluate KNN with different k values and data\n",
    "for k in range(1, 11):\n",
    "    for data, label in zip((X_train, X_train_scaled), ('Original', 'Scaled')):\n",
    "        knn = KNeighborsClassifier(n_neighbors=k)\n",
    "        knn.fit(data, y_train)\n",
    "        y_pred = knn.predict(X_test if label == 'Original' else X_test_scaled)\n",
    "        print(f'For {label} data with k={k}:')\n",
    "        eval_classifier(y_test, y_pred)"
   ]
  },
  {
   "cell_type": "markdown",
   "metadata": {},
   "source": [
    "Dummy Model for comparison: "
   ]
  },
  {
   "cell_type": "code",
   "execution_count": 26,
   "metadata": {},
   "outputs": [
    {
     "name": "stdout",
     "output_type": "stream",
     "text": [
      "For dummy model with P=0:\n",
      "F1: 0.00\n",
      "Confusion Matrix\n",
      "[[0.89266667 0.        ]\n",
      " [0.10733333 0.        ]]\n",
      "For dummy model with P=0.5:\n",
      "F1: 0.20\n",
      "Confusion Matrix\n",
      "[[0.45733333 0.43533333]\n",
      " [0.048      0.05933333]]\n",
      "For dummy model with P=0.5:\n",
      "F1: 0.20\n",
      "Confusion Matrix\n",
      "[[0.45733333 0.43533333]\n",
      " [0.048      0.05933333]]\n",
      "For dummy model with P=1:\n",
      "F1: 0.19\n",
      "Confusion Matrix\n",
      "[[0.         0.89266667]\n",
      " [0.         0.10733333]]\n"
     ]
    }
   ],
   "source": [
    "def rnd_model_predict(P, size, seed=42):\n",
    "    rng = np.random.default_rng(seed=seed)\n",
    "    return rng.binomial(n=1, p=P, size=size)\n",
    "\n",
    "for P in [0, y_train.mean(), 0.5, 1]:\n",
    "    y_pred = rnd_model_predict(P, len(y_test))\n",
    "    print(f'For dummy model with P={P}:')\n",
    "    eval_classifier(y_test, y_pred)"
   ]
  },
  {
   "cell_type": "markdown",
   "metadata": {},
   "source": [
    "The scaled models all perform well in terms of the F1 score, which is far better than the dummy model, whcih never gets above .2 for F1 score. "
   ]
  },
  {
   "cell_type": "code",
   "execution_count": 27,
   "metadata": {},
   "outputs": [],
   "source": [
    "class MyLinearRegression:\n",
    "    \n",
    "    def __init__(self):\n",
    "        self.weights = None\n",
    "    \n",
    "    def fit(self, X, y):\n",
    "        \n",
    "        X2 = np.append(np.ones([len(X), 1]), X, axis=1)\n",
    "        self.weights = np.linalg.inv(X2.T @ X2) @ X2.T @ y\n",
    "\n",
    "    def predict(self, X):\n",
    "        \n",
    "        X2 = np.append(np.ones([len(X), 1]), X, axis=1)\n",
    "        y_pred = X2 @ self.weights\n",
    "        return y_pred"
   ]
  },
  {
   "cell_type": "code",
   "execution_count": 28,
   "metadata": {},
   "outputs": [],
   "source": [
    "def eval_regressor(y_true, y_pred):\n",
    "    rmse = math.sqrt(mean_squared_error(y_true, y_pred))\n",
    "    print(f'RMSE: {rmse:.2f}')\n",
    "    r2 = r2_score(y_true, y_pred)\n",
    "    print(f'R2: {r2:.2f}')    \n"
   ]
  },
  {
   "cell_type": "code",
   "execution_count": 29,
   "metadata": {},
   "outputs": [
    {
     "name": "stdout",
     "output_type": "stream",
     "text": [
      "[-9.43539012e-01  3.57495491e-02  1.64272726e-02 -2.60743659e-07\n",
      " -1.16902127e-02]\n",
      "RMSE: 0.34\n",
      "R2: 0.43\n"
     ]
    }
   ],
   "source": [
    "X = df[['age', 'gender', 'income', 'family_members']].to_numpy()\n",
    "y = df['insurance_benefits'].to_numpy()\n",
    "\n",
    "X_train, X_test, y_train, y_test = train_test_split(X, y, test_size=0.3, random_state=12345)\n",
    "\n",
    "lr = MyLinearRegression()\n",
    "\n",
    "lr.fit(X_train, y_train)\n",
    "print(lr.weights)\n",
    "\n",
    "y_test_pred = lr.predict(X_test)\n",
    "eval_regressor(y_test, y_test_pred)"
   ]
  },
  {
   "cell_type": "code",
   "execution_count": 30,
   "metadata": {},
   "outputs": [
    {
     "name": "stdout",
     "output_type": "stream",
     "text": [
      "[ 0.11457143  0.20964508 -0.00036542  0.00135641 -0.00688148]\n",
      "RMSE: 0.23\n",
      "R2: 0.44\n"
     ]
    }
   ],
   "source": [
    "\n",
    "X = df[['age', 'gender', 'income', 'family_members']]\n",
    "y = (df['insurance_benefits'] > 0).astype(int)\n",
    "\n",
    "\n",
    "X_train, X_test, y_train, y_test = train_test_split(X, y, test_size=0.3, random_state=12345)\n",
    "\n",
    "scaler = StandardScaler()\n",
    "\n",
    "\n",
    "X_train_scaled = scaler.fit_transform(X_train)\n",
    "\n",
    "\n",
    "X_test_scaled = scaler.transform(X_test)\n",
    "\n",
    "\n",
    "lr = MyLinearRegression()\n",
    "lr.fit(X_train_scaled, y_train)\n",
    "print(lr.weights)\n",
    "\n",
    "y_test_pred = lr.predict(X_test_scaled)\n",
    "eval_regressor(y_test, y_test_pred)\n"
   ]
  },
  {
   "cell_type": "markdown",
   "metadata": {},
   "source": [
    "It seems scaling makes very little difference at all in regard to R2, and that linear regression does not change if scaling is done"
   ]
  },
  {
   "cell_type": "code",
   "execution_count": 31,
   "metadata": {},
   "outputs": [],
   "source": [
    "personal_info_column_list = ['gender', 'age', 'income', 'family_members']\n",
    "df_pn = df[personal_info_column_list]"
   ]
  },
  {
   "cell_type": "code",
   "execution_count": 32,
   "metadata": {},
   "outputs": [],
   "source": [
    "X = df_pn.to_numpy()"
   ]
  },
  {
   "cell_type": "markdown",
   "metadata": {},
   "source": [
    "Generating a random matrix $P$."
   ]
  },
  {
   "cell_type": "code",
   "execution_count": 33,
   "metadata": {},
   "outputs": [],
   "source": [
    "rng = np.random.default_rng(seed=42)\n",
    "P = rng.random(size=(X.shape[1], X.shape[1]))"
   ]
  },
  {
   "cell_type": "markdown",
   "metadata": {},
   "source": [
    "Checking the matrix $P$ is invertible"
   ]
  },
  {
   "cell_type": "code",
   "execution_count": 34,
   "metadata": {},
   "outputs": [
    {
     "name": "stdout",
     "output_type": "stream",
     "text": [
      "Transformed features:\n",
      "[[ 6359.71527314 22380.40467609 18424.09074184 46000.69669016]\n",
      " [ 4873.29406479 17160.36702982 14125.78076133 35253.45577301]\n",
      " [ 2693.11742928  9486.397744    7808.83156024 19484.86063067]\n",
      " ...\n",
      " [ 4346.2234249  15289.24126492 12586.16264392 31433.50888552]\n",
      " [ 4194.09324155 14751.9910242  12144.02930637 30323.88763426]\n",
      " [ 5205.46827354 18314.24814446 15077.01370762 37649.59295455]]\n"
     ]
    }
   ],
   "source": [
    "try:\n",
    "    np.linalg.inv(P)\n",
    "except np.linalg.LinAlgError:\n",
    "    print(\"Matrix P is not invertible.\")\n",
    "else:\n",
    "    \n",
    "    X_prime = np.dot(X, P)\n",
    "    print(\"Transformed features:\")\n",
    "    print(X_prime)"
   ]
  },
  {
   "cell_type": "markdown",
   "metadata": {},
   "source": [
    "Can you guess the customers' ages or income after the transformation?\n",
    "\n",
    "No, it would be incredibly difficult to guess the ages or income after doing this without knowing exactly what method was used to obfuscute the data. "
   ]
  },
  {
   "cell_type": "markdown",
   "metadata": {},
   "source": [
    "Can you recover the original data from $X'$ if you know $P$? Try to check that with calculations by moving $P$ from the right side of the formula above to the left one. The rules of matrix multiplcation are really helpful here.\n",
    "\n",
    "If you know P, then it is possible to recover the original data. "
   ]
  },
  {
   "cell_type": "code",
   "execution_count": 35,
   "metadata": {},
   "outputs": [],
   "source": [
    "\n",
    "P_inv = np.linalg.inv(P)\n",
    "X_recovered = np.dot(X_prime, P_inv)\n"
   ]
  },
  {
   "cell_type": "markdown",
   "metadata": {},
   "source": [
    "Print all three cases for a few customers\n",
    "- The original data\n",
    "- The transformed one\n",
    "- The reversed (recovered) one"
   ]
  },
  {
   "cell_type": "code",
   "execution_count": 36,
   "metadata": {},
   "outputs": [
    {
     "name": "stdout",
     "output_type": "stream",
     "text": [
      "Customer 1:\n",
      "\n",
      "Original Data:\n",
      "[1.00e+00 4.10e+01 4.96e+04 1.00e+00]\n",
      "\n",
      "Transformed Data:\n",
      "[ 6359.71527314 22380.40467609 18424.09074184 46000.69669016]\n",
      "\n",
      "Recovered Data:\n",
      "[1.00e+00 4.10e+01 4.96e+04 1.00e+00]\n",
      "\n",
      "---\n",
      "\n",
      "Customer 2:\n",
      "\n",
      "Original Data:\n",
      "[0.0e+00 4.6e+01 3.8e+04 1.0e+00]\n",
      "\n",
      "Transformed Data:\n",
      "[ 4873.29406479 17160.36702982 14125.78076133 35253.45577301]\n",
      "\n",
      "Recovered Data:\n",
      "[-4.47363596e-12  4.60000000e+01  3.80000000e+04  1.00000000e+00]\n",
      "\n",
      "---\n",
      "\n",
      "Customer 3:\n",
      "\n",
      "Original Data:\n",
      "[    0.    29. 21000.     0.]\n",
      "\n",
      "Transformed Data:\n",
      "[ 2693.11742928  9486.397744    7808.83156024 19484.86063067]\n",
      "\n",
      "Recovered Data:\n",
      "[-2.51586878e-12  2.90000000e+01  2.10000000e+04  9.52452315e-13]\n",
      "\n",
      "---\n",
      "\n",
      "Customer 4:\n",
      "\n",
      "Original Data:\n",
      "[0.00e+00 2.10e+01 4.17e+04 2.00e+00]\n",
      "\n",
      "Transformed Data:\n",
      "[ 5345.60393712 18803.22720286 15479.14837264 38663.06186284]\n",
      "\n",
      "Recovered Data:\n",
      "[-4.84498208e-12  2.10000000e+01  4.17000000e+04  2.00000000e+00]\n",
      "\n",
      "---\n",
      "\n",
      "Customer 5:\n",
      "\n",
      "Original Data:\n",
      "[1.00e+00 2.80e+01 2.61e+04 0.00e+00]\n",
      "\n",
      "Transformed Data:\n",
      "[ 3347.17673462 11782.82928336  9699.99894205 24211.27337753]\n",
      "\n",
      "Recovered Data:\n",
      "[ 1.0000000e+00  2.8000000e+01  2.6100000e+04 -1.0199074e-13]\n",
      "\n",
      "---\n",
      "\n"
     ]
    }
   ],
   "source": [
    "import numpy as np\n",
    "\n",
    "\n",
    "personal_info_column_list = ['gender', 'age', 'income', 'family_members']\n",
    "df_pn = df[personal_info_column_list]\n",
    "X = df_pn.to_numpy()\n",
    "\n",
    "\n",
    "rng = np.random.default_rng(seed=42)\n",
    "P = rng.random(size=(X.shape[1], X.shape[1]))\n",
    "\n",
    "\n",
    "try:\n",
    "    np.linalg.inv(P)\n",
    "except np.linalg.LinAlgError:\n",
    "    print(\"Matrix P is not invertible.\")\n",
    "else:\n",
    "    \n",
    "    X_prime = np.dot(X, P)\n",
    "    \n",
    "    \n",
    "    P_inv = np.linalg.inv(P)\n",
    "    X_recovered = np.dot(X_prime, P_inv)\n",
    "\n",
    "    \n",
    "    for i in range(5):  \n",
    "        print(f\"Customer {i+1}:\")\n",
    "        print(\"\\nOriginal Data:\")\n",
    "        print(X[i])\n",
    "        print(\"\\nTransformed Data:\")\n",
    "        print(X_prime[i])\n",
    "        print(\"\\nRecovered Data:\")\n",
    "        print(X_recovered[i])\n",
    "        print(\"\\n---\\n\")\n"
   ]
  },
  {
   "cell_type": "markdown",
   "metadata": {},
   "source": [
    "You can probably see that some values are not exactly the same as they are in the original data. What might be the reason for that?"
   ]
  },
  {
   "cell_type": "markdown",
   "metadata": {},
   "source": [
    "The values are very close to the original in some cases, but not exact in every case. This is because of rounding errors presumably. Some irrational numbers do not have an exact value and their decimal numbers go on for infinity. "
   ]
  },
  {
   "cell_type": "markdown",
   "metadata": {},
   "source": [
    "**Procedure**\n",
    "\n",
    "- Create a square matrix $P$ of random numbers.\n",
    "- Check that it is invertible. If not, repeat the first point until we get an invertible matrix.\n",
    "- <! your comment here !>\n",
    "- Use $XP$ as the new feature matrix"
   ]
  },
  {
   "cell_type": "code",
   "execution_count": 37,
   "metadata": {},
   "outputs": [],
   "source": [
    "class ObfuscatedLinearRegression:\n",
    "    def __init__(self, obfuscate=True):\n",
    "        self.obfuscate = obfuscate\n",
    "        self.regr = LinearRegression()\n",
    "        self.P = None\n",
    "\n",
    "    def fit(self, X, y):\n",
    "        if self.obfuscate:\n",
    "            self.P = np.random.rand(X.shape[1], X.shape[1])\n",
    "            while np.linalg.matrix_rank(self.P) < len(self.P):\n",
    "                self.P = np.random.rand(X.shape[1], X.shape[1])\n",
    "            X = np.dot(X, self.P)\n",
    "        self.regr.fit(X, y)\n",
    "\n",
    "    def predict(self, X):\n",
    "        if self.obfuscate:\n",
    "            X = np.dot(X, self.P)\n",
    "        return self.regr.predict(X)"
   ]
  },
  {
   "cell_type": "code",
   "execution_count": 38,
   "metadata": {},
   "outputs": [],
   "source": [
    "X = df.drop(columns=['insurance_benefits'])\n",
    "y = df['insurance_benefits']\n",
    "\n",
    "\n",
    "X_train, X_test, y_train, y_test = train_test_split(X, y, test_size=0.3, random_state=42)"
   ]
  },
  {
   "cell_type": "code",
   "execution_count": 39,
   "metadata": {},
   "outputs": [
    {
     "name": "stdout",
     "output_type": "stream",
     "text": [
      "Original Data: RMSE = 0.22110486038594188, R2 = 0.7866629976839693\n"
     ]
    }
   ],
   "source": [
    "regr = ObfuscatedLinearRegression(obfuscate=False)\n",
    "regr.fit(X_train, y_train)\n",
    "y_pred = regr.predict(X_test)\n",
    "print(f\"Original Data: RMSE = {np.sqrt(mean_squared_error(y_test, y_pred))}, R2 = {r2_score(y_test, y_pred)}\")"
   ]
  },
  {
   "cell_type": "code",
   "execution_count": 40,
   "metadata": {
    "scrolled": false
   },
   "outputs": [
    {
     "name": "stdout",
     "output_type": "stream",
     "text": [
      "Obfuscated Data: RMSE = 0.22110486039081015, R2 = 0.7866629976745749\n"
     ]
    }
   ],
   "source": [
    "regr = ObfuscatedLinearRegression(obfuscate=True)\n",
    "regr.fit(X_train, y_train)\n",
    "y_pred = regr.predict(X_test)\n",
    "print(f\"Obfuscated Data: RMSE = {np.sqrt(mean_squared_error(y_test, y_pred))}, R2 = {r2_score(y_test, y_pred)}\")"
   ]
  },
  {
   "cell_type": "markdown",
   "metadata": {},
   "source": [
    "The original data and the obfuscated data have basically the same RMSE and R2 values. The differences are so small that they do not truly matter, showing that this is a reliable way to obfuscate data without harming the quality of the data or the analysis of said data. "
   ]
  },
  {
   "cell_type": "markdown",
   "metadata": {},
   "source": [
    "# Conclusions"
   ]
  },
  {
   "cell_type": "markdown",
   "metadata": {},
   "source": [
    "In conclusion, I found customers similar to a given customer and then trained a model to predict if a new customer will need benefits. The trained model does better than the dummy model. "
   ]
  },
  {
   "cell_type": "markdown",
   "metadata": {},
   "source": [
    "I then predicted the number of insurance benefits a customer is likely to receive using a linear regression model. It was successful, and then I showed that the R2 value is not impacted by scaling when using a linear regression model. "
   ]
  },
  {
   "cell_type": "markdown",
   "metadata": {},
   "source": [
    "Finally, the clients had their data protected through obfuscation without impacting the quality of the data or the ability to train models on the data. "
   ]
  }
 ],
 "metadata": {
  "kernelspec": {
   "display_name": "Python 3 (ipykernel)",
   "language": "python",
   "name": "python3"
  },
  "language_info": {
   "codemirror_mode": {
    "name": "ipython",
    "version": 3
   },
   "file_extension": ".py",
   "mimetype": "text/x-python",
   "name": "python",
   "nbconvert_exporter": "python",
   "pygments_lexer": "ipython3",
   "version": "3.9.5"
  },
  "toc": {
   "base_numbering": 1,
   "nav_menu": {},
   "number_sections": true,
   "sideBar": true,
   "skip_h1_title": true,
   "title_cell": "Table of Contents",
   "title_sidebar": "Contents",
   "toc_cell": false,
   "toc_position": {},
   "toc_section_display": true,
   "toc_window_display": false
  }
 },
 "nbformat": 4,
 "nbformat_minor": 4
}
